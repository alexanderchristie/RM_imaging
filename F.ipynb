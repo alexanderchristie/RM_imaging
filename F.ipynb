{
 "cells": [
  {
   "cell_type": "code",
   "execution_count": 14,
   "metadata": {},
   "outputs": [
    {
     "name": "stdout",
     "output_type": "stream",
     "text": [
      "(806, 361)\n",
      "(361, 361)\n",
      "coherence of data:  0.763143828697641\n",
      "Medium: (806, 361), Rho: (5000, 361), B: (5000, 806)\n",
      "shape of the union without removin: (18050, 806), number for Expceriments: 50\n",
      "(806,)\n"
     ]
    }
   ],
   "source": [
    "#Notebooks for small tests\n",
    "import os  \n",
    "import pandas as pd\n",
    "import matplotlib.pyplot as plt\n",
    "import numpy as np\n",
    "import re\n",
    "plt.rcParams['axes.facecolor']='w'\n",
    "plt.rcParams['savefig.facecolor']='w'\n",
    "import matplotlib as mpl\n",
    "mpl.rcParams['figure.facecolor'] = 'white'\n",
    "#imports and plotting function\n",
    "import argparse\n",
    "import mat73\n",
    "import logging\n",
    "import numpy as np\n",
    "#import torchvision\n",
    "from datetime import datetime\n",
    "import os\n",
    "import scipy.io\n",
    "from torch.utils.data import DataLoader\n",
    "import io\n",
    "from PIL import Image\n",
    "import matplotlib\n",
    "matplotlib.use('Agg')\n",
    "import matplotlib.pyplot as plt\n",
    "import wandb\n",
    "import math\n",
    "import torch.nn.functional as F\n",
    "import torchvision.transforms as T\n",
    "import torch.nn as nn\n",
    "import torch\n",
    "import sys\n",
    "import torch.optim.lr_scheduler as lr_scheduler\n",
    "import wandb\n",
    "import torch\n",
    "from sklearn.preprocessing import StandardScaler\n",
    "import Models as M\n",
    "import Helpers as H\n",
    "import time\n",
    "import copy\n",
    "from torch.func import vmap\n",
    "from functorch.experimental import replace_all_batch_norm_modules_\n",
    "from sklearn.cluster import AgglomerativeClustering\n",
    "from scipy.spatial import distance_matrix\n",
    "from sklearn.cluster import DBSCAN\n",
    "\n",
    "\n",
    "%matplotlib inline\n",
    "\n",
    "encoder_out='sigmoid'\n",
    "cwd=os. getcwd()\n",
    "device = torch.device(\"cuda:1\" if torch.cuda.is_available() else \"cpu\")\n",
    "\n",
    "data_path=os.path.join(cwd,'Data/FoldyLox_all_seeds/FoldyLox_seed0')\n",
    "medium= np.array(mat73.loadmat(data_path+'/rtt.mat')['Artt'])\n",
    "print(medium.shape)\n",
    "inners=medium.transpose().conjugate()@medium\n",
    "print(inners.shape)\n",
    "coherence=0\n",
    "for i in inners:\n",
    "    for j in i:\n",
    "        if abs(j)>coherence and j<.99:\n",
    "            coherence=abs(j)\n",
    "print('coherence of data: ', coherence)\n",
    "#b=np.load(data_path+'/train/b.npy')\n",
    "#rho=np.load(data_path+'/train/rho.npy')\n",
    "#print(np.allclose(medium@rho[0],b[0]))\n",
    "index_list=[]\n",
    "unlabeled_data=5000\n",
    "if False: #This vlock is from betas sweep. good betas. Not optimal.\n",
    "    decoder_locats='/home/achristie/Codes_data/Experiment_data/rhosupport_stats/Classic_gelma/decoder_5000_0_'\n",
    "    timescampstrs={'07-14-29','09-46-07','14-35-38','13-49-42','09-45-53'} #they located in above or below\n",
    "    #            curr_decoder='/home/achristie/Codes_data/Experiment_data/rhosupport_stats/Classic_gelma/decoder_5000_1'+curr_decoder[-12:]\n",
    "\n",
    "\n",
    "\n",
    "if True:#This block is from tests done with all default (pytorch) parameters\n",
    "\n",
    "\n",
    "    decoder_locats='/home/achristie/Codes_data/Experiment_data/rhosupport_stats/Scaling_tests/10kepochs/decoder_5000_'\n",
    "    timescampstrs = [\n",
    "    \"44_00-31-12\",\n",
    "    \"47_00-31-10\",\n",
    "    \"43_18-10-40\",\n",
    "    \"46_18-10-39\",\n",
    "    \"41_18-10-04\",\n",
    "    \"49_18-00-09\",\n",
    "    \"48_11-52-40\",\n",
    "    \"45_11-50-38\",\n",
    "    \"42_11-50-21\",\n",
    "    \"40_11-49-46\",\n",
    "    \"25_8-6-24\",\n",
    "    \"24_01-54-27\",\n",
    "    \"9_21-43-17\",\n",
    "    \"4_21-42-58\",\n",
    "    \"23_17-55-08\",\n",
    "    \"29_15-29-37\",\n",
    "    \"39_15-11-34\",\n",
    "    \"34_15-09-31\",\n",
    "    \"8_13-43-00\",\n",
    "    \"3_13-42-41\",\n",
    "    \"22_09-55-47\",\n",
    "    \"38_08-50-47\",\n",
    "    \"33_08-47-54\",\n",
    "    \"28_08-46-30\",\n",
    "    \"7_05-43-01\",\n",
    "    \"2_05-42-47\",\n",
    "    \"37_02-29-47\",\n",
    "    \"32_2-26-51\",\n",
    "    \"27_2-25-22\",\n",
    "    \"21_01-56-27\",\n",
    "    \"6_21-43-02\",\n",
    "    \"1_21-42-47\",\n",
    "    \"36_20-08-25\",\n",
    "    \"31_20-05-29\",\n",
    "    \"26_20-04-14\",\n",
    "    \"20_17-57-14\",\n",
    "    \"35_13-47-33\",\n",
    "    \"30_13-44-32\",\n",
    "    \"5_13-43-10\",\n",
    "    \"0_13-42-53\",\n",
    "    \"19_11-58-46\",\n",
    "    \"18_8-27-31\",\n",
    "    \"17_5-3-27\",\n",
    "    \"16_01-39-09\",\n",
    "    \"15_22-14-51\",\n",
    "    \"14_17-34-09\",\n",
    "    \"13_12-36-21\",\n",
    "    \"12_9-12-21\",\n",
    "    \"11_05-47-25\",\n",
    "    \"10_1-9-58\"\n",
    "]\n",
    "\n",
    "#,'21-52-00','01-44-08','05-09-23','01-48-20', '09-27-26','05-27-23','08-57-23','03-35-41'}\n",
    "\n",
    "\n",
    "pixels='Gaussian_abs'\n",
    "\n",
    "\n",
    "decoder_locats=[decoder_locats+timescampstr+'.pt' for timescampstr in timescampstrs]\n",
    "training_data=H.data_rho_loaded(data_path+'/train',unlabeled_data/80000,pixels=pixels, normalize=False)\n",
    "indim=int(training_data.b[0].shape[0]/2)\n",
    "outdim=(training_data.rho[0].shape[0]/4)\n",
    "def get_cluster_data(decoder_locats):\n",
    "    Complex_eye=torch.cat((torch.eye(int(outdim*2)), torch.zeros((int(outdim*2),int(outdim*2)))), dim=1)\n",
    "\n",
    "    #Complex_eye=torch.eye(400)#.to(device)\n",
    "    columns=[]\n",
    "    \n",
    "    #decoder_locats=f'/home/achristie/Codes_data/Experiment_data/rhosupport_stats/5khighcohdatamodels/'\n",
    "    #decoder_locats = '/home/achristie/Codes_data/Experiment_data/rhosupport_stats/5khighcohdatamodels/'\n",
    "    #decoder_files = [f for f in os.listdir(decoder_locats) if f.startswith('decoder')]\n",
    "    for curr_decoder in decoder_locats:\n",
    "        decoder=M.norm_linear_complex(int(training_data.rho[0].shape[0]), int(training_data.b[0].shape[0]), normalize=False)  #R^ {N_k} -> C^{N_rec*N_freq}\n",
    "\n",
    "        #decoder=M.norm_linear_complex(int(training_data.rho[0].shape[0]/2), int(training_data.b[0].shape[0]), normalize=False)  #R^ {N_k} -> C^{N_rec*N_freq}\n",
    "        try:\n",
    "            decoder.load_state_dict(torch.load(curr_decoder))\n",
    "        except:\n",
    "            #curr_decoder='/home/achristie/Codes_data/Experiment_data/rhosupport_stats/Classic_gelma/decoder_5000_1'+curr_decoder[-12:]\n",
    "            #decoder.load_state_dict(torch.load(curr_decoder))\n",
    "            pass\n",
    "        medium_hat=decoder(Complex_eye).squeeze()\n",
    "        #print(medium_hat.shape)\n",
    "        medium_hat=F.normalize(medium_hat, dim=-1)\n",
    "        medium_hat=medium_hat.cpu().detach().numpy()\n",
    "        medium_hat=H.cat2complex(medium_hat)                    \n",
    "        columns.append(medium_hat)\n",
    "    columns=np.array(columns)\n",
    "    return  np.row_stack(columns)\n",
    "\n",
    "\n",
    "col_list=get_cluster_data(decoder_locats)\n",
    "print(f'shape of the union without removin: {col_list.shape}, number for Expceriments: {len(col_list)//361}')\n",
    "for i in range(361):\n",
    "    G_i=medium.T[i]\n",
    "    print(G_i.shape)\n",
    "    break\n",
    "\n",
    "def db_inner(a,b):\n",
    "    a=H.cat2complex(a)\n",
    "    b=H.cat2complex(b)\n",
    "    return 1-abs(np.inner(a,b.conj()))\n",
    "X=col_list\n",
    "X = np.concatenate([X.real, X.imag], axis=1)\n",
    "columns=X\n",
    "num_clusters=[]\n",
    "eps_linspace=np.linspace(.0001,.5,1000)\n",
    "torch_inner=np.abs(1.0-(np.abs(np.inner(col_list,col_list.conj()))))\n",
    "\n",
    "for eps in eps_linspace:\n",
    "    DBSCAN_fit=DBSCAN(eps=eps, min_samples=5, metric='precomputed').fit(torch_inner)\n",
    "\n",
    "    DBSCAN_fit.labels_\n",
    "    X_clustered=X[DBSCAN_fit.labels_!=-1]\n",
    "    len(X_clustered)\n",
    "    cluster_sizes=[len(X[DBSCAN_fit.labels_==i]) for i in range(max(DBSCAN_fit.labels_))]\n",
    "    #dist_in_cluster=[]\n",
    "    #for i in range(max(DBSCAN_fit.labels_)):\n",
    "        #X_in_cluster=X[DBSCAN_fit.labels_==i]\n",
    "        #dist_matrix=distance_matrix(X_in_cluster, X_in_cluster)\n",
    "        #max_dist_in_cluster=np.max(dist_matrix)\n",
    "        #dist=sum((X_in_cluster[0]-X_in_cluster[1])**2)**(1/2)\n",
    "        #dist_in_cluster.append(max_dist_in_cluster)\n",
    "    # if len(X[DBSCAN_fit.labels_==i])>1:\n",
    "    #     dist_in_cluster.append(np.mean(np.sum((X[DBSCAN_fit.labels_==i]-np.mean(X[DBSCAN_fit.labels_==i], axis=0))**2, axis=1))\n",
    "    # else:\n",
    "    #     dist_in_cluster.append(0)\n",
    "    #dist_in_cluster#=[np.mean(np.sum((X[DBSCAN_fit.labels_==i]-np.mean(X[DBSCAN_fit.labels_==i], axis=0))**2, axis=1)) for i in range(max(DBSCAN_fit.labels_))]\n",
    "    #dist_in_cluster.sort()\n",
    "    #plt.plot([i for i in range(len(dist_in_cluster))], dist_in_cluster)\n",
    "    num_clusters.append(len(cluster_sizes))\n",
    "    #print('largest cluster, number clustered (dbscan), number of clusters=: ',max(cluster_sizes), sum(cluster_sizes),len(cluster_sizes)) #Num of )\n",
    "plt.plot(eps_linspace, num_clusters, label='DBSCAN number of clusters')\n",
    "plt.hlines(19**2, eps_linspace[0],eps_linspace[-1], colors='r', linestyles='dashed', label='True number of columns')"
   ]
  },
  {
   "cell_type": "code",
   "execution_count": 6,
   "metadata": {},
   "outputs": [
    {
     "name": "stdout",
     "output_type": "stream",
     "text": [
      "(806, 361)\n",
      "(361, 361)\n",
      "coherence of data:  0.763143828697641\n",
      "Medium: (806, 361), Rho: (5000, 361), B: (5000, 806)\n",
      "shape of the union without removin: (18050, 806), number for Expceriments: 50\n",
      "(806,)\n"
     ]
    },
    {
     "data": {
      "text/plain": [
       "<matplotlib.collections.LineCollection at 0x7ba53c2933d0>"
      ]
     },
     "execution_count": 6,
     "metadata": {},
     "output_type": "execute_result"
    },
    {
     "data": {
      "image/png": "[encoded data removed]",
      "text/plain": [
       "<Figure size 640x480 with 1 Axes>"
      ]
     },
     "metadata": {},
     "output_type": "display_data"
    }
   ],
   "source": [
    "#Notebooks for small tests\n",
    "import os  \n",
    "import pandas as pd\n",
    "import matplotlib.pyplot as plt\n",
    "import numpy as np\n",
    "import re\n",
    "plt.rcParams['axes.facecolor']='w'\n",
    "plt.rcParams['savefig.facecolor']='w'\n",
    "import matplotlib as mpl\n",
    "mpl.rcParams['figure.facecolor'] = 'white'\n",
    "#imports and plotting function\n",
    "import argparse\n",
    "import mat73\n",
    "import logging\n",
    "import numpy as np\n",
    "#import torchvision\n",
    "from datetime import datetime\n",
    "import os\n",
    "import scipy.io\n",
    "from torch.utils.data import DataLoader\n",
    "import io\n",
    "from PIL import Image\n",
    "import matplotlib\n",
    "matplotlib.use('Agg')\n",
    "import matplotlib.pyplot as plt\n",
    "import wandb\n",
    "import math\n",
    "import torch.nn.functional as F\n",
    "import torchvision.transforms as T\n",
    "import torch.nn as nn\n",
    "import torch\n",
    "import sys\n",
    "import torch.optim.lr_scheduler as lr_scheduler\n",
    "import wandb\n",
    "import torch\n",
    "from sklearn.preprocessing import StandardScaler\n",
    "import Models as M\n",
    "import Helpers as H\n",
    "import time\n",
    "import copy\n",
    "from torch.func import vmap\n",
    "from functorch.experimental import replace_all_batch_norm_modules_\n",
    "from sklearn.cluster import AgglomerativeClustering\n",
    "from scipy.spatial import distance_matrix\n",
    "from sklearn.cluster import DBSCAN\n",
    "\n",
    "\n",
    "%matplotlib inline\n",
    "\n",
    "encoder_out='sigmoid'\n",
    "cwd=os. getcwd()\n",
    "device = torch.device(\"cuda:1\" if torch.cuda.is_available() else \"cpu\")\n",
    "\n",
    "data_path=os.path.join(cwd,'Data/FoldyLox_all_seeds/FoldyLox_seed0')\n",
    "medium= np.array(mat73.loadmat(data_path+'/rtt.mat')['Artt'])\n",
    "print(medium.shape)\n",
    "inners=medium.transpose().conjugate()@medium\n",
    "print(inners.shape)\n",
    "coherence=0\n",
    "for i in inners:\n",
    "    for j in i:\n",
    "        if abs(j)>coherence and j<.99:\n",
    "            coherence=abs(j)\n",
    "print('coherence of data: ', coherence)\n",
    "#b=np.load(data_path+'/train/b.npy')\n",
    "#rho=np.load(data_path+'/train/rho.npy')\n",
    "#print(np.allclose(medium@rho[0],b[0]))\n",
    "index_list=[]\n",
    "unlabeled_data=5000\n",
    "if False: #This vlock is from betas sweep. good betas. Not optimal.\n",
    "    decoder_locats='/home/achristie/Codes_data/Experiment_data/rhosupport_stats/Classic_gelma/decoder_5000_0_'\n",
    "    timescampstrs={'07-14-29','09-46-07','14-35-38','13-49-42','09-45-53'} #they located in above or below\n",
    "    #            curr_decoder='/home/achristie/Codes_data/Experiment_data/rhosupport_stats/Classic_gelma/decoder_5000_1'+curr_decoder[-12:]\n",
    "\n",
    "\n",
    "\n",
    "if True:#This block is from tests done with all default (pytorch) parameters\n",
    "\n",
    "\n",
    "    decoder_locats='/home/achristie/Codes_data/Experiment_data/rhosupport_stats/Scaling_tests/10kepochs/decoder_5000_'\n",
    "    timescampstrs = [\n",
    "    \"44_00-31-12\",\n",
    "    \"47_00-31-10\",\n",
    "    \"43_18-10-40\",\n",
    "    \"46_18-10-39\",\n",
    "    \"41_18-10-04\",\n",
    "    \"49_18-00-09\",\n",
    "    \"48_11-52-40\",\n",
    "    \"45_11-50-38\",\n",
    "    \"42_11-50-21\",\n",
    "    \"40_11-49-46\",\n",
    "    \"25_8-6-24\",\n",
    "    \"24_01-54-27\",\n",
    "    \"9_21-43-17\",\n",
    "    \"4_21-42-58\",\n",
    "    \"23_17-55-08\",\n",
    "    \"29_15-29-37\",\n",
    "    \"39_15-11-34\",\n",
    "    \"34_15-09-31\",\n",
    "    \"8_13-43-00\",\n",
    "    \"3_13-42-41\",\n",
    "    \"22_09-55-47\",\n",
    "    \"38_08-50-47\",\n",
    "    \"33_08-47-54\",\n",
    "    \"28_08-46-30\",\n",
    "    \"7_05-43-01\",\n",
    "    \"2_05-42-47\",\n",
    "    \"37_02-29-47\",\n",
    "    \"32_2-26-51\",\n",
    "    \"27_2-25-22\",\n",
    "    \"21_01-56-27\",\n",
    "    \"6_21-43-02\",\n",
    "    \"1_21-42-47\",\n",
    "    \"36_20-08-25\",\n",
    "    \"31_20-05-29\",\n",
    "    \"26_20-04-14\",\n",
    "    \"20_17-57-14\",\n",
    "    \"35_13-47-33\",\n",
    "    \"30_13-44-32\",\n",
    "    \"5_13-43-10\",\n",
    "    \"0_13-42-53\",\n",
    "    \"19_11-58-46\",\n",
    "    \"18_8-27-31\",\n",
    "    \"17_5-3-27\",\n",
    "    \"16_01-39-09\",\n",
    "    \"15_22-14-51\",\n",
    "    \"14_17-34-09\",\n",
    "    \"13_12-36-21\",\n",
    "    \"12_9-12-21\",\n",
    "    \"11_05-47-25\",\n",
    "    \"10_1-9-58\"\n",
    "]\n",
    "\n",
    "#,'21-52-00','01-44-08','05-09-23','01-48-20', '09-27-26','05-27-23','08-57-23','03-35-41'}\n",
    "\n",
    "\n",
    "pixels='Gaussian_abs'\n",
    "\n",
    "\n",
    "decoder_locats=[decoder_locats+timescampstr+'.pt' for timescampstr in timescampstrs]\n",
    "training_data=H.data_rho_loaded(data_path+'/train',unlabeled_data/80000,pixels=pixels, normalize=False)\n",
    "indim=int(training_data.b[0].shape[0]/2)\n",
    "outdim=(training_data.rho[0].shape[0]/4)\n",
    "def get_cluster_data(decoder_locats):\n",
    "    Complex_eye=torch.cat((torch.eye(int(outdim*2)), torch.zeros((int(outdim*2),int(outdim*2)))), dim=1)\n",
    "\n",
    "    #Complex_eye=torch.eye(400)#.to(device)\n",
    "    columns=[]\n",
    "    \n",
    "    #decoder_locats=f'/home/achristie/Codes_data/Experiment_data/rhosupport_stats/5khighcohdatamodels/'\n",
    "    #decoder_locats = '/home/achristie/Codes_data/Experiment_data/rhosupport_stats/5khighcohdatamodels/'\n",
    "    #decoder_files = [f for f in os.listdir(decoder_locats) if f.startswith('decoder')]\n",
    "    for curr_decoder in decoder_locats:\n",
    "        decoder=M.norm_linear_complex(int(training_data.rho[0].shape[0]), int(training_data.b[0].shape[0]), normalize=False)  #R^ {N_k} -> C^{N_rec*N_freq}\n",
    "\n",
    "        #decoder=M.norm_linear_complex(int(training_data.rho[0].shape[0]/2), int(training_data.b[0].shape[0]), normalize=False)  #R^ {N_k} -> C^{N_rec*N_freq}\n",
    "        try:\n",
    "            decoder.load_state_dict(torch.load(curr_decoder))\n",
    "        except:\n",
    "            #curr_decoder='/home/achristie/Codes_data/Experiment_data/rhosupport_stats/Classic_gelma/decoder_5000_1'+curr_decoder[-12:]\n",
    "            #decoder.load_state_dict(torch.load(curr_decoder))\n",
    "            pass\n",
    "        medium_hat=decoder(Complex_eye).squeeze()\n",
    "        #print(medium_hat.shape)\n",
    "        medium_hat=F.normalize(medium_hat, dim=-1)\n",
    "        medium_hat=medium_hat.cpu().detach().numpy()\n",
    "        medium_hat=H.cat2complex(medium_hat)                    \n",
    "        columns.append(medium_hat)\n",
    "    columns=np.array(columns)\n",
    "    return  np.row_stack(columns)\n",
    "\n",
    "\n",
    "col_list=get_cluster_data(decoder_locats)\n",
    "print(f'shape of the union without removin: {col_list.shape}, number for Expceriments: {len(col_list)//361}')\n",
    "for i in range(361):\n",
    "    G_i=medium.T[i]\n",
    "    print(G_i.shape)\n",
    "    break\n",
    "\n",
    "def db_inner(a,b):\n",
    "    a=H.cat2complex(a)\n",
    "    b=H.cat2complex(b)\n",
    "    return 1-abs(np.inner(a,b.conj()))\n",
    "X=col_list\n",
    "X = np.concatenate([X.real, X.imag], axis=1)\n",
    "columns=X\n",
    "num_clusters=[]\n",
    "eps_linspace=np.linspace(.0001,.,100)\n",
    "torch_inner=np.abs(1.0-(np.abs(np.inner(col_list,col_list.conj()))))\n",
    "\n",
    "for eps in eps_linspace:\n",
    "    DBSCAN_fit=DBSCAN(eps=eps, min_samples=5, metric='precomputed').fit(torch_inner)\n",
    "\n",
    "    DBSCAN_fit.labels_\n",
    "    X_clustered=X[DBSCAN_fit.labels_!=-1]\n",
    "    len(X_clustered)\n",
    "    cluster_sizes=[len(X[DBSCAN_fit.labels_==i]) for i in range(max(DBSCAN_fit.labels_))]\n",
    "    #dist_in_cluster=[]\n",
    "    #for i in range(max(DBSCAN_fit.labels_)):\n",
    "        #X_in_cluster=X[DBSCAN_fit.labels_==i]\n",
    "        #dist_matrix=distance_matrix(X_in_cluster, X_in_cluster)\n",
    "        #max_dist_in_cluster=np.max(dist_matrix)\n",
    "        #dist=sum((X_in_cluster[0]-X_in_cluster[1])**2)**(1/2)\n",
    "        #dist_in_cluster.append(max_dist_in_cluster)\n",
    "    # if len(X[DBSCAN_fit.labels_==i])>1:\n",
    "    #     dist_in_cluster.append(np.mean(np.sum((X[DBSCAN_fit.labels_==i]-np.mean(X[DBSCAN_fit.labels_==i], axis=0))**2, axis=1))\n",
    "    # else:\n",
    "    #     dist_in_cluster.append(0)\n",
    "    #dist_in_cluster#=[np.mean(np.sum((X[DBSCAN_fit.labels_==i]-np.mean(X[DBSCAN_fit.labels_==i], axis=0))**2, axis=1)) for i in range(max(DBSCAN_fit.labels_))]\n",
    "    #dist_in_cluster.sort()\n",
    "    #plt.plot([i for i in range(len(dist_in_cluster))], dist_in_cluster)\n",
    "    num_clusters.append(len(cluster_sizes))\n",
    "    #print('largest cluster, number clustered (dbscan), number of clusters=: ',max(cluster_sizes), sum(cluster_sizes),len(cluster_sizes)) #Num of )\n",
    "plt.plot(eps_linspace, num_clusters, label='DBSCAN number of clusters')\n",
    "plt.hlines(19**2, eps_linspace[0],eps_linspace[-1], colors='r', linestyles='dashed', label='True number of columns')"
   ]
  },
  {
   "cell_type": "code",
   "execution_count": 234,
   "metadata": {},
   "outputs": [
    {
     "data": {
      "text/plain": [
       "<matplotlib.collections.LineCollection at 0x72ee3a3df1c0>"
      ]
     },
     "execution_count": 234,
     "metadata": {},
     "output_type": "execute_result"
    },
    {
     "data": {
      "image/png": "[encoded data removed]",
      "text/plain": [
       "<Figure size 640x480 with 1 Axes>"
      ]
     },
     "metadata": {},
     "output_type": "display_data"
    }
   ],
   "source": [
    "plt.plot(eps_linspace[4:], num_clusters[4:], label='DBSCAN number of clusters')\n",
    "plt.hlines(19**2, eps_linspace[0],eps_linspace[-1], colors='r', linestyles='dashed', label='True number of columns')\n"
   ]
  },
  {
   "cell_type": "code",
   "execution_count": 237,
   "metadata": {},
   "outputs": [
    {
     "name": "stdout",
     "output_type": "stream",
     "text": [
      "0.0011090909090909092 360\n",
      "0.9998468939148394 0.9998468939148394 (362, 806)\n",
      "num recovered: 361, inner avg: 0.9996815988871028\n",
      "0.9999268813432458 0.9999268813432458\n",
      "num recovered: 361, inner avg: 0.9998695008923068\n"
     ]
    }
   ],
   "source": [
    "def oreinted_mean(z):\n",
    "    z_inners=np.inner(z,z.conj())\n",
    "    ret_z=[]\n",
    "    for  i in range(z.shape[0]):\n",
    "        if z_inners[0,i]>0:\n",
    "            ret_z.append(z[i])\n",
    "        else:\n",
    "            ret_z.append(-z[i])\n",
    "    return np.mean(np.array(ret_z), axis=0)\n",
    "\n",
    "T_hold=.99\n",
    "\n",
    "IND=1\n",
    "print(eps_linspace[IND], num_clusters[IND])\n",
    "DBSCAN_fit=DBSCAN(eps=eps_linspace[IND], min_samples=4, metric='precomputed').fit(torch_inner)\n",
    "\n",
    "ghat_list=[X[DBSCAN_fit.labels_==i][0] for i in range(max(DBSCAN_fit.labels_))]\n",
    "ghat_list_avgs=[oreinted_mean(X[DBSCAN_fit.labels_==i]) for i in range(max(DBSCAN_fit.labels_))]\n",
    "\n",
    "\n",
    "\n",
    "medium_hat=np.vstack(ghat_list)\n",
    "medium_hat=H.cat2complex(medium_hat)\n",
    "medium_hat=medium_hat/np.linalg.norm(medium_hat, axis=1)[:,None]\n",
    "torch_inners=np.abs(np.inner(medium_hat,medium.T.conj()) ) #entry i j is ghat_i dot bar(g_j) \n",
    "max_inners=np.max(torch_inners, axis=0)\n",
    "print(max_inners[0],max(torch_inners[:,0]),medium_hat.shape)\n",
    "print(f'num recovered: {len(max_inners[max_inners>T_hold])}, inner avg: {max_inners.mean()}')\n",
    "\n",
    "medium_hat_avgs=np.vstack(ghat_list_avgs)\n",
    "medium_hat_avgs=H.cat2complex(medium_hat_avgs)\n",
    "medium_hat_avgs=medium_hat_avgs/np.linalg.norm(medium_hat_avgs, axis=1)[:,None]\n",
    "torch_inners_avgs=np.abs(np.inner(medium_hat_avgs,medium.T.conj()) ) #entry i j is ghat_i dot bar(g_j)\n",
    "max_inners_avgs=np.max(torch_inners_avgs, axis=0)\n",
    "print(max_inners_avgs[0],max(torch_inners_avgs[:,0]))\n",
    "print(f'num recovered: {len(max_inners_avgs[max_inners_avgs>T_hold])}, inner avg: {max_inners_avgs.mean()}')\n",
    "ind_not_recovered_list.append(np.where(max_inners_avgs<T_hold)[0])\n"
   ]
  },
  {
   "cell_type": "code",
   "execution_count": 177,
   "metadata": {},
   "outputs": [
    {
     "data": {
      "text/plain": [
       "[array([61]), array([61]), array([59]), array([59]), array([59])]"
      ]
     },
     "execution_count": 177,
     "metadata": {},
     "output_type": "execute_result"
    }
   ],
   "source": [
    "ind_not_recovered_list\n"
   ]
  },
  {
   "cell_type": "code",
   "execution_count": 12,
   "metadata": {},
   "outputs": [
    {
     "name": "stdout",
     "output_type": "stream",
     "text": [
      "0.007500000000000001 365\n"
     ]
    },
    {
     "data": {
      "text/plain": [
       "<matplotlib.collections.LineCollection at 0x7ba535b0cc40>"
      ]
     },
     "execution_count": 12,
     "metadata": {},
     "output_type": "execute_result"
    },
    {
     "data": {
      "image/png": "[encoded data removed]",
      "text/plain": [
       "<Figure size 640x480 with 1 Axes>"
      ]
     },
     "metadata": {},
     "output_type": "display_data"
    }
   ],
   "source": [
    "def oreinted_mean(z):\n",
    "    z_inners=np.inner(z,z.conj())\n",
    "    ret_z=[]\n",
    "    for  i in range(z.shape[0]):\n",
    "        if z_inners[0,i]>0:\n",
    "            ret_z.append(z[i])\n",
    "        else:\n",
    "            ret_z.append(-z[i])\n",
    "    return np.mean(np.array(ret_z), axis=0)\n",
    "\n",
    "T_hold=.99\n",
    "IND=-26\n",
    "num_recovered_list=[]\n",
    "\n",
    "print(eps_linspace[IND], num_clusters[IND])\n",
    "ind_not_recovered_list=[]\n",
    "for eps in eps_linspace:\n",
    "    DBSCAN_fit=DBSCAN(eps=eps, min_samples=5, metric='precomputed').fit(torch_inner)\n",
    "    cluster_sizes=[len(X[DBSCAN_fit.labels_==i]) for i in range(max(DBSCAN_fit.labels_))]\n",
    "    sorted_cluster_sizes=sorted(cluster_sizes)\n",
    "    try:\n",
    "        min_accepted_cluster_size=sorted_cluster_sizes[-361]\n",
    "    except:\n",
    "        min_accepted_cluster_size=0\n",
    "    if len(cluster_sizes)>min_accepted_cluster_size:\n",
    "        ghat_list=[]\n",
    "        ghat_list_avgs=[]\n",
    "        for i in range(max(DBSCAN_fit.labels_)):\n",
    "            if cluster_sizes[i]>=5:\n",
    "                \n",
    "                ghat_list.append(X[DBSCAN_fit.labels_==i][0])\n",
    "                ghat_list_avgs.append(oreinted_mean(X[DBSCAN_fit.labels_==i]))\n",
    "\n",
    "\n",
    "\n",
    "        medium_hat=np.vstack(ghat_list)\n",
    "        medium_hat=H.cat2complex(medium_hat)\n",
    "        medium_hat=medium_hat/np.linalg.norm(medium_hat, axis=1)[:,None]\n",
    "        torch_inners=np.abs(np.inner(medium_hat,medium.T.conj()) ) #entry i j is ghat_i dot bar(g_j) \n",
    "        max_inners=np.max(torch_inners, axis=0)\n",
    "        #print(max_inners[0],max(torch_inners[:,0]),medium_hat.shape)\n",
    "        #print(f'num recovered: {len(max_inners[max_inners>T_hold])}, inner avg: {max_inners.mean()}')\n",
    "\n",
    "        medium_hat_avgs=np.vstack(ghat_list_avgs)\n",
    "        medium_hat_avgs=H.cat2complex(medium_hat_avgs)\n",
    "        medium_hat_avgs=medium_hat_avgs/np.linalg.norm(medium_hat_avgs, axis=1)[:,None]\n",
    "        torch_inners_avgs=np.abs(np.inner(medium_hat_avgs,medium.T.conj()) ) #entry i j is ghat_i dot bar(g_j)\n",
    "        max_inners_avgs=np.max(torch_inners_avgs, axis=0)\n",
    "        #print(max_inners_avgs[0],max(torch_inners_avgs[:,0]))\n",
    "        #print(f'num recovered: {len(max_inners_avgs[max_inners_avgs>T_hold])}, inner avg: {max_inners_avgs.mean()}')\n",
    "        num_recovered_list.append(len(max_inners_avgs[max_inners_avgs>T_hold]))\n",
    "        if len(max_inners_avgs[max_inners_avgs>T_hold])>=360:\n",
    "            ind_not_recovered_list.append(np.where(max_inners_avgs<T_hold)[0])\n",
    "\n",
    "plt.plot(eps_linspace[:len(num_recovered_list)], num_recovered_list, label='Recovery number of columns')\n",
    "plt.hlines(19**2, eps_linspace[0],eps_linspace[len(num_recovered_list)], colors='r', linestyles='dashed', label='True number of columns')        \n",
    "#ind_not_recovered_list=[i[0] for i in ind_not_recovered_list]\n",
    "\n",
    "#print(f'indices missed:{set(ind_not_recovered_list)}')\n",
    "#plt.hists(ind_not_recovered_list)                    \n",
    "                            "
   ]
  },
  {
   "cell_type": "code",
   "execution_count": 9,
   "metadata": {},
   "outputs": [
    {
     "name": "stdout",
     "output_type": "stream",
     "text": [
      "[4, 4, 4, 4, 4, 4, 4, 4, 4, 4, 4, 4, 4, 4, 4] 418\n"
     ]
    }
   ],
   "source": [
    "print(sorted_cluster_sizes[:15], len(sorted_cluster_sizes))\n"
   ]
  },
  {
   "cell_type": "code",
   "execution_count": 111,
   "metadata": {},
   "outputs": [
    {
     "data": {
      "text/plain": [
       "[364,\n",
       " 364,\n",
       " 364,\n",
       " 366,\n",
       " 366,\n",
       " 366,\n",
       " 364,\n",
       " 364,\n",
       " 364,\n",
       " 364,\n",
       " 364,\n",
       " 364,\n",
       " 363,\n",
       " 363,\n",
       " 363,\n",
       " 363,\n",
       " 362,\n",
       " 361,\n",
       " 361,\n",
       " 361,\n",
       " 361,\n",
       " 361,\n",
       " 361,\n",
       " 360,\n",
       " 360,\n",
       " 361,\n",
       " 361,\n",
       " 361,\n",
       " 361,\n",
       " 361]"
      ]
     },
     "execution_count": 111,
     "metadata": {},
     "output_type": "execute_result"
    },
    {
     "data": {
      "image/png": "[encoded data removed]",
      "text/plain": [
       "<Figure size 640x480 with 1 Axes>"
      ]
     },
     "metadata": {},
     "output_type": "display_data"
    }
   ],
   "source": [
    "ghat_list=[]\n",
    "print(cluster_sizes)\n",
    "for i in range(len(cluster_sizes)):\n",
    "    if cluster_sizes[i]>4:\n",
    "        ghat_list.append(X[DBSCAN_fit.labels_==i][0])\n",
    "\n",
    "medium_hat=np.vstack(ghat_list)\n",
    "medium_hat=H.cat2complex(medium_hat)   \n",
    "print(medium_hat.shape)\n",
    "\n",
    "torch_inners=np.abs(np.inner(medium_hat,medium.T.conj()) ) #entry i j is ghat_i dot bar(g_j) \n",
    "max_inners=np.max(torch_inners, axis=0)\n",
    "print(max_inners[0],max(torch_inners[:,0]))\n",
    "len(max_inners[max_inners>.99]),max_inners.mean()"
   ]
  },
  {
   "cell_type": "code",
   "execution_count": 127,
   "metadata": {},
   "outputs": [
    {
     "ename": "ValueError",
     "evalue": "361 is not in list",
     "output_type": "error",
     "traceback": [
      "\u001b[0;31m---------------------------------------------------------------------------\u001b[0m",
      "\u001b[0;31mValueError\u001b[0m                                Traceback (most recent call last)",
      "Cell \u001b[0;32mIn[127], line 2\u001b[0m\n\u001b[1;32m      1\u001b[0m T_hold\u001b[38;5;241m=\u001b[39m\u001b[38;5;241m.9\u001b[39m\n\u001b[0;32m----> 2\u001b[0m IND\u001b[38;5;241m=\u001b[39m\u001b[43mnum_clusters\u001b[49m\u001b[38;5;241;43m.\u001b[39;49m\u001b[43mindex\u001b[49m\u001b[43m(\u001b[49m\u001b[38;5;241;43m19\u001b[39;49m\u001b[38;5;241;43m*\u001b[39;49m\u001b[38;5;241;43m*\u001b[39;49m\u001b[38;5;241;43m2\u001b[39;49m\u001b[43m)\u001b[49m\n\u001b[1;32m      3\u001b[0m \u001b[38;5;28mprint\u001b[39m(eps_linspace[IND], num_clusters[IND])\n\u001b[1;32m      4\u001b[0m DBSCAN_fit\u001b[38;5;241m=\u001b[39mDBSCAN(eps\u001b[38;5;241m=\u001b[39meps_linspace[IND], min_samples\u001b[38;5;241m=\u001b[39m\u001b[38;5;241m5\u001b[39m, metric\u001b[38;5;241m=\u001b[39m\u001b[38;5;124m'\u001b[39m\u001b[38;5;124mprecomputed\u001b[39m\u001b[38;5;124m'\u001b[39m)\u001b[38;5;241m.\u001b[39mfit(torch_inner)\n",
      "\u001b[0;31mValueError\u001b[0m: 361 is not in list"
     ]
    }
   ],
   "source": [
    "T_hold=.9\n",
    "IND=num_clusters.index(19**2)\n",
    "print(eps_linspace[IND], num_clusters[IND])\n",
    "DBSCAN_fit=DBSCAN(eps=eps_linspace[IND], min_samples=5, metric='precomputed').fit(torch_inner)\n",
    "\n",
    "ghat_list=[X[DBSCAN_fit.labels_==i][0] for i in range(max(DBSCAN_fit.labels_))]\n",
    "ghat_list_avgs=[np.mean(X[DBSCAN_fit.labels_==i],axis=0) for i in range(max(DBSCAN_fit.labels_))]\n",
    "\n",
    "\n",
    "\n",
    "medium_hat=np.vstack(ghat_list)\n",
    "medium_hat=H.cat2complex(medium_hat)\n",
    "medium_hat=medium_hat/np.linalg.norm(medium_hat, axis=1)[:,None]\n",
    "torch_inners=np.abs(np.inner(medium_hat,medium.T.conj()) ) #entry i j is ghat_i dot bar(g_j) \n",
    "max_inners=np.max(torch_inners, axis=0)\n",
    "print(max_inners[0],max(torch_inners[:,0]),medium_hat.shape)\n",
    "print(f'num recovered: {len(max_inners[max_inners>T_hold])}, inner avg: {max_inners.mean()}')\n",
    "\n",
    "medium_hat_avgs=np.vstack(ghat_list_avgs)\n",
    "medium_hat_avgs=H.cat2complex(medium_hat_avgs)\n",
    "medium_hat_avgs=medium_hat_avgs/np.linalg.norm(medium_hat_avgs, axis=1)[:,None]\n",
    "torch_inners_avgs=np.abs(np.inner(medium_hat_avgs,medium.T.conj()) ) #entry i j is ghat_i dot bar(g_j)\n",
    "max_inners_avgs=np.max(torch_inners_avgs, axis=0)\n",
    "print(max_inners_avgs[0],max(torch_inners_avgs[:,0]))\n",
    "print(f'num recovered: {len(max_inners_avgs[max_inners_avgs>T_hold])}, inner avg: {max_inners_avgs.mean()}')\n"
   ]
  },
  {
   "cell_type": "code",
   "execution_count": 28,
   "metadata": {},
   "outputs": [
    {
     "data": {
      "text/plain": [
       "(0.8403316334349994, 0.9941712286307979, 332, 0.7285845403287607)"
      ]
     },
     "execution_count": 28,
     "metadata": {},
     "output_type": "execute_result"
    }
   ],
   "source": [
    "\n",
    "index_list=[]\n",
    "sum_max_inner_original=0\n",
    "max_list=[]\n",
    "for i in range(361):\n",
    "    max_list.append(max(torch_inners[:, i]))\n",
    "    if max(torch_inners[:, i])>.99 and i not in index_list:\n",
    "        index_list.append(i)\n",
    "    sum_max_inner_original=sum_max_inner_original+max(torch_inners[:, i])\n",
    "max_avg_inners_original=sum_max_inner_original/361\n",
    "\n",
    "min(max_inners),max_avg_inners_original,len(index_list),min(max_list)"
   ]
  },
  {
   "cell_type": "code",
   "execution_count": 178,
   "metadata": {},
   "outputs": [
    {
     "name": "stdout",
     "output_type": "stream",
     "text": [
      "shape of the union without removin: (18050, 806), number for Expceriments: 50\n",
      "(806,)\n",
      "41 12\n",
      "44 9\n",
      "60 12\n",
      "61 12\n",
      "66 10\n",
      "[9, 10, 12, 12, 12]\n"
     ]
    },
    {
     "data": {
      "image/png": "[encoded data removed]",
      "text/plain": [
       "<Figure size 640x480 with 1 Axes>"
      ]
     },
     "metadata": {},
     "output_type": "display_data"
    }
   ],
   "source": [
    "col_list=get_cluster_data(decoder_locats)\n",
    "print(f'shape of the union without removin: {col_list.shape}, number for Expceriments: {len(col_list)//361}')\n",
    "for i in range(361):\n",
    "    G_i=medium.T[i]\n",
    "    print(G_i.shape)\n",
    "    break\n",
    "col_list=get_cluster_data(decoder_locats)\n",
    "num_times_recovered_list=[]\n",
    "inn_list_max_list=[]\n",
    "for i in range(361):\n",
    "    G_i=medium.T[i]\n",
    "    inn_list=abs(np.inner(G_i, col_list.conj()))\n",
    "    inn_list_max_list.append(np.max(inn_list))\n",
    "    num_times_recovered=len(inn_list[inn_list>.99])\n",
    "    num_times_recovered_list.append(num_times_recovered)\n",
    "    if num_times_recovered<=12:\n",
    "        print(i, num_times_recovered)\n",
    "\n",
    "num_times_recovered_list=sorted(num_times_recovered_list)\n",
    "num_times_recovered_list[:5]\n",
    "plt.plot([i for i in range(361)], num_times_recovered_list)\n",
    "print(num_times_recovered_list[:5],)"
   ]
  },
  {
   "cell_type": "code",
   "execution_count": 41,
   "metadata": {},
   "outputs": [
    {
     "data": {
      "text/plain": [
       "43"
      ]
     },
     "execution_count": 41,
     "metadata": {},
     "output_type": "execute_result"
    }
   ],
   "source": [
    "col_list=get_cluster_data(decoder_locats)\n",
    "num_times_recovered_list=[]\n",
    "inn_list_max_list=[]\n",
    "G_i=medium.T[0]\n",
    "G_i_hats=[]\n",
    "\n",
    "for i in col_list:\n",
    "    inn_list=abs(np.inner(G_i, i.conj()))\n",
    "    if inn_list>.99:\n",
    "        G_i_hats.append(i)\n",
    "#    num_times_recovered_list.append(num_times_recovered)\n",
    "\n",
    "G_i_hat_distanced=[np.sum(abs(G_i_hat-G_i)**2)**(1/2) for G_i_hat in G_i_hats]\n",
    "G_i_hat_inners=[abs(np.inner(G_i_hat, G_i.conj())) for G_i_hat in G_i_hats]\n",
    "G_i_hat_inners.sort()\n",
    "G_i_hat_distanced.sort()\n",
    "G_i_hat_distanced[-5:], G_i_hat_inners[-5:]"
   ]
  },
  {
   "cell_type": "code",
   "execution_count": 46,
   "metadata": {},
   "outputs": [
    {
     "data": {
      "text/plain": [
       "([1.9194813665275472,\n",
       "  1.9197723004371443,\n",
       "  1.9199803011417733,\n",
       "  1.9200232178917622,\n",
       "  1.920425191581124],\n",
       " [0.9998732206371255,\n",
       "  0.9998767896145772,\n",
       "  0.9998785387632312,\n",
       "  0.9998793854259006,\n",
       "  0.999890047524533])"
      ]
     },
     "execution_count": 46,
     "metadata": {},
     "output_type": "execute_result"
    }
   ],
   "source": [
    "G_i_hat_distanced=[np.sum(abs(G_i_hat-G_i)**2)**(1/2) for G_i_hat in G_i_hats]\n",
    "G_i_hat_inners=[abs(np.inner(G_i_hat, G_i.conj())) for G_i_hat in G_i_hats]\n",
    "G_i_hat_inners.sort()\n",
    "G_i_hat_distanced.sort()\n",
    "G_i_hat_distanced[-5:], G_i_hat_inners[-5:]"
   ]
  },
  {
   "cell_type": "code",
   "execution_count": 37,
   "metadata": {},
   "outputs": [
    {
     "data": {
      "text/plain": [
       "(18050, 18050)"
      ]
     },
     "execution_count": 37,
     "metadata": {},
     "output_type": "execute_result"
    }
   ],
   "source": [
    "len(G_i_hat_indices), len(G_i_hat_distanced)"
   ]
  },
  {
   "cell_type": "code",
   "execution_count": 38,
   "metadata": {},
   "outputs": [
    {
     "data": {
      "text/plain": [
       "array([False, False, False, ..., False, False, False])"
      ]
     },
     "execution_count": 38,
     "metadata": {},
     "output_type": "execute_result"
    }
   ],
   "source": [
    "G_i_hat_indices"
   ]
  },
  {
   "cell_type": "code",
   "execution_count": 34,
   "metadata": {},
   "outputs": [],
   "source": [
    "for i in col_list:\n",
    "    if not np.allclose((abs(i)**2).sum(),1):\n",
    "        print('wtf')"
   ]
  },
  {
   "cell_type": "code",
   "execution_count": null,
   "metadata": {},
   "outputs": [],
   "source": [
    "/Users/alexchristie/Downloads/Codes_data/FoldyLox_all_seeds/FoldyLox_seed1\n",
    "scp -r /Users/alexchristie/Downloads/Codes_data/FoldyLox_all_seeds/FoldyLox_seed1 achristie@gp-workstation2:/home/achristie/RM_imaging/Data/FoldyLox_all_seeds/   "
   ]
  }
 ],
 "metadata": {
  "kernelspec": {
   "display_name": "Workstation1",
   "language": "python",
   "name": "python3"
  },
  "language_info": {
   "codemirror_mode": {
    "name": "ipython",
    "version": 3
   },
   "file_extension": ".py",
   "mimetype": "text/x-python",
   "name": "python",
   "nbconvert_exporter": "python",
   "pygments_lexer": "ipython3",
   "version": "3.8.16"
  }
 },
 "nbformat": 4,
 "nbformat_minor": 2
}

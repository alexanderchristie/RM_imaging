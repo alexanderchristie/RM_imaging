{
 "cells": [
  {
   "cell_type": "code",
   "execution_count": 1,
   "metadata": {},
   "outputs": [
    {
     "name": "stdout",
     "output_type": "stream",
     "text": [
      "(806, 361)\n",
      "(361, 361)\n",
      "coherence of data:  0.763143828697641\n",
      "Medium: (806, 361), Rho: (5000, 361), B: (5000, 806)\n",
      "shape of the union without removin: (18050, 806), number for Expceriments: 50\n",
      "(806,)\n"
     ]
    }
   ],
   "source": [
    "#Notebooks for small tests\n",
    "import os  \n",
    "import pandas as pd\n",
    "import matplotlib.pyplot as plt\n",
    "import numpy as np\n",
    "import re\n",
    "plt.rcParams['axes.facecolor']='w'\n",
    "plt.rcParams['savefig.facecolor']='w'\n",
    "import matplotlib as mpl\n",
    "mpl.rcParams['figure.facecolor'] = 'white'\n",
    "#imports and plotting function\n",
    "import argparse\n",
    "import mat73\n",
    "import logging\n",
    "import numpy as np\n",
    "#import torchvision\n",
    "from datetime import datetime\n",
    "import os\n",
    "import scipy.io\n",
    "from torch.utils.data import DataLoader\n",
    "import io\n",
    "from PIL import Image\n",
    "import matplotlib\n",
    "matplotlib.use('Agg')\n",
    "import matplotlib.pyplot as plt\n",
    "import wandb\n",
    "import math\n",
    "import torch.nn.functional as F\n",
    "import torchvision.transforms as T\n",
    "import torch.nn as nn\n",
    "import torch\n",
    "import sys\n",
    "import torch.optim.lr_scheduler as lr_scheduler\n",
    "import wandb\n",
    "import torch\n",
    "from sklearn.preprocessing import StandardScaler\n",
    "import Models as M\n",
    "import Helpers as H\n",
    "import time\n",
    "import copy\n",
    "from torch.func import vmap\n",
    "from functorch.experimental import replace_all_batch_norm_modules_\n",
    "from sklearn.cluster import AgglomerativeClustering\n",
    "from scipy.spatial import distance_matrix\n",
    "from sklearn.cluster import DBSCAN\n",
    "\n",
    "\n",
    "%matplotlib inline\n",
    "\n",
    "encoder_out='sigmoid'\n",
    "cwd=os. getcwd()\n",
    "device = torch.device(\"cuda:1\" if torch.cuda.is_available() else \"cpu\")\n",
    "\n",
    "data_path=os.path.join(cwd,'Data/FoldyLox_all_seeds/FoldyLox_seed0')\n",
    "medium= np.array(mat73.loadmat(data_path+'/rtt.mat')['Artt'])\n",
    "print(medium.shape)\n",
    "inners=medium.transpose().conjugate()@medium\n",
    "print(inners.shape)\n",
    "coherence=0\n",
    "for i in inners:\n",
    "    for j in i:\n",
    "        if abs(j)>coherence and j<.99:\n",
    "            coherence=abs(j)\n",
    "print('coherence of data: ', coherence)\n",
    "#b=np.load(data_path+'/train/b.npy')\n",
    "#rho=np.load(data_path+'/train/rho.npy')\n",
    "#print(np.allclose(medium@rho[0],b[0]))\n",
    "index_list=[]\n",
    "unlabeled_data=5000\n",
    "if False: #This vlock is from betas sweep. good betas. Not optimal.\n",
    "    decoder_locats='/home/achristie/Codes_data/Experiment_data/rhosupport_stats/Classic_gelma/decoder_5000_0_'\n",
    "    timescampstrs={'07-14-29','09-46-07','14-35-38','13-49-42','09-45-53'} #they located in above or below\n",
    "    #            curr_decoder='/home/achristie/Codes_data/Experiment_data/rhosupport_stats/Classic_gelma/decoder_5000_1'+curr_decoder[-12:]\n",
    "\n",
    "\n",
    "\n",
    "if True:#This block is from tests done with all default (pytorch) parameters\n",
    "\n",
    "\n",
    "    decoder_locats='/home/achristie/Codes_data/Experiment_data/rhosupport_stats/Scaling_tests/10kepochs/decoder_5000_'\n",
    "    timescampstrs = [\n",
    "    \"44_00-31-12\",\n",
    "    \"47_00-31-10\",\n",
    "    \"43_18-10-40\",\n",
    "    \"46_18-10-39\",\n",
    "    \"41_18-10-04\",\n",
    "    \"49_18-00-09\",\n",
    "    \"48_11-52-40\",\n",
    "    \"45_11-50-38\",\n",
    "    \"42_11-50-21\",\n",
    "    \"40_11-49-46\",\n",
    "    \"25_8-6-24\",\n",
    "    \"24_01-54-27\",\n",
    "    \"9_21-43-17\",\n",
    "    \"4_21-42-58\",\n",
    "    \"23_17-55-08\",\n",
    "    \"29_15-29-37\",\n",
    "    \"39_15-11-34\",\n",
    "    \"34_15-09-31\",\n",
    "    \"8_13-43-00\",\n",
    "    \"3_13-42-41\",\n",
    "    \"22_09-55-47\",\n",
    "    \"38_08-50-47\",\n",
    "    \"33_08-47-54\",\n",
    "    \"28_08-46-30\",\n",
    "    \"7_05-43-01\",\n",
    "    \"2_05-42-47\",\n",
    "    \"37_02-29-47\",\n",
    "    \"32_2-26-51\",\n",
    "    \"27_2-25-22\",\n",
    "    \"21_01-56-27\",\n",
    "    \"6_21-43-02\",\n",
    "    \"1_21-42-47\",\n",
    "    \"36_20-08-25\",\n",
    "    \"31_20-05-29\",\n",
    "    \"26_20-04-14\",\n",
    "    \"20_17-57-14\",\n",
    "    \"35_13-47-33\",\n",
    "    \"30_13-44-32\",\n",
    "    \"5_13-43-10\",\n",
    "    \"0_13-42-53\",\n",
    "    \"19_11-58-46\",\n",
    "    \"18_8-27-31\",\n",
    "    \"17_5-3-27\",\n",
    "    \"16_01-39-09\",\n",
    "    \"15_22-14-51\",\n",
    "    \"14_17-34-09\",\n",
    "    \"13_12-36-21\",\n",
    "    \"12_9-12-21\",\n",
    "    \"11_05-47-25\",\n",
    "    \"10_1-9-58\"\n",
    "]\n",
    "\n",
    "#,'21-52-00','01-44-08','05-09-23','01-48-20', '09-27-26','05-27-23','08-57-23','03-35-41'}\n",
    "\n",
    "\n",
    "pixels='Gaussian_abs'\n",
    "\n",
    "\n",
    "decoder_locats=[decoder_locats+timescampstr+'.pt' for timescampstr in timescampstrs]\n",
    "training_data=H.data_rho_loaded(data_path+'/train',unlabeled_data/80000,pixels=pixels, normalize=False)\n",
    "indim=int(training_data.b[0].shape[0]/2)\n",
    "outdim=(training_data.rho[0].shape[0]/4)\n",
    "def get_cluster_data(decoder_locats):\n",
    "    Complex_eye=torch.cat((torch.eye(int(outdim*2)), torch.zeros((int(outdim*2),int(outdim*2)))), dim=1)\n",
    "\n",
    "    #Complex_eye=torch.eye(400)#.to(device)\n",
    "    columns=[]\n",
    "    \n",
    "    #decoder_locats=f'/home/achristie/Codes_data/Experiment_data/rhosupport_stats/5khighcohdatamodels/'\n",
    "    #decoder_locats = '/home/achristie/Codes_data/Experiment_data/rhosupport_stats/5khighcohdatamodels/'\n",
    "    #decoder_files = [f for f in os.listdir(decoder_locats) if f.startswith('decoder')]\n",
    "    for curr_decoder in decoder_locats:\n",
    "        decoder=M.norm_linear_complex(int(training_data.rho[0].shape[0]), int(training_data.b[0].shape[0]), normalize=False)  #R^ {N_k} -> C^{N_rec*N_freq}\n",
    "\n",
    "        #decoder=M.norm_linear_complex(int(training_data.rho[0].shape[0]/2), int(training_data.b[0].shape[0]), normalize=False)  #R^ {N_k} -> C^{N_rec*N_freq}\n",
    "        try:\n",
    "            decoder.load_state_dict(torch.load(curr_decoder))\n",
    "        except:\n",
    "            #curr_decoder='/home/achristie/Codes_data/Experiment_data/rhosupport_stats/Classic_gelma/decoder_5000_1'+curr_decoder[-12:]\n",
    "            #decoder.load_state_dict(torch.load(curr_decoder))\n",
    "            pass\n",
    "        medium_hat=decoder(Complex_eye).squeeze()\n",
    "        #print(medium_hat.shape)\n",
    "        medium_hat=F.normalize(medium_hat, dim=-1)\n",
    "        medium_hat=medium_hat.cpu().detach().numpy()\n",
    "        medium_hat=H.cat2complex(medium_hat)                    \n",
    "        columns.append(medium_hat)\n",
    "    columns=np.array(columns)\n",
    "    return  np.row_stack(columns)\n",
    "\n",
    "\n",
    "col_list=get_cluster_data(decoder_locats)\n",
    "print(f'shape of the union without removin: {col_list.shape}, number for Expceriments: {len(col_list)//361}')\n",
    "for i in range(361):\n",
    "    G_i=medium.T[i]\n",
    "    print(G_i.shape)\n",
    "    break\n"
   ]
  },
  {
   "cell_type": "code",
   "execution_count": 13,
   "metadata": {},
   "outputs": [
    {
     "name": "stdout",
     "output_type": "stream",
     "text": [
      "shape of the union without removin: (11552, 806)\n"
     ]
    },
    {
     "data": {
      "text/plain": [
       "[<matplotlib.lines.Line2D at 0x7ddeea997d60>]"
      ]
     },
     "execution_count": 13,
     "metadata": {},
     "output_type": "execute_result"
    },
    {
     "data": {
      "image/png": "[encoded data removed]",
      "text/plain": [
       "<Figure size 640x480 with 1 Axes>"
      ]
     },
     "metadata": {},
     "output_type": "display_data"
    }
   ],
   "source": [
    "col_list=get_cluster_data(decoder_locats)\n",
    "print(f'shape of the union without removin: {col_list.shape}')\n",
    "size_list=[]\n",
    "eps_lin=np.linspace(.7,.9,50)\n",
    "for eps in eps_lin:\n",
    "    intersection=[]\n",
    "    intersection.append(col_list[0])\n",
    "\n",
    "    for i in range(len(col_list)):\n",
    "        in_flag=False\n",
    "        repeated_flag=False\n",
    "        for j in range(i+19*19,len(col_list)):\n",
    "            j=j%(19*19)\n",
    "            if abs(np.inner(col_list[i],col_list[j].conj()))>eps and i!=j:\n",
    "                repeated_flag=True\n",
    "                break\n",
    "            else:\n",
    "                repeated_flag=False\n",
    "        for j in range(len(intersection)):\n",
    "            if abs(np.inner(col_list[i],intersection[j].conj()))>eps:\n",
    "                in_flag=True\n",
    "                break\n",
    "            else:\n",
    "                in_flag=False\n",
    "        if repeated_flag and (not in_flag):\n",
    "            intersection.append(col_list[i])\n",
    "    size_list.append(len(intersection))\n",
    "        \n",
    "plt.plot(eps_lin,size_list)"
   ]
  },
  {
   "cell_type": "code",
   "execution_count": 18,
   "metadata": {},
   "outputs": [
    {
     "name": "stdout",
     "output_type": "stream",
     "text": [
      "0.7571428571428571\n"
     ]
    },
    {
     "data": {
      "text/plain": [
       "(361, 363, 357)"
      ]
     },
     "execution_count": 18,
     "metadata": {},
     "output_type": "execute_result"
    }
   ],
   "source": [
    "#eps_lin=np.linspace(.75,.95,4)\n",
    "#print(size_list[0])\n",
    "#plt.plot(eps_lin,size_list)\n",
    "361 in size_list\n",
    "indexOf=size_list.index(361)\n",
    "print(eps_lin[indexOf])\n",
    "size_list[indexOf],size_list[indexOf-1],size_list[indexOf+1]\n"
   ]
  },
  {
   "cell_type": "code",
   "execution_count": 6,
   "metadata": {},
   "outputs": [
    {
     "name": "stdout",
     "output_type": "stream",
     "text": [
      "shape of the union with removin: (360, 806)\n"
     ]
    },
    {
     "data": {
      "image/png": "[encoded data removed]",
      "text/plain": [
       "<Figure size 640x480 with 1 Axes>"
      ]
     },
     "metadata": {},
     "output_type": "display_data"
    }
   ],
   "source": [
    "col_list=get_cluster_data(decoder_locats)\n",
    "#print(f'shape of the union without removin: {col_list.shape}')\n",
    "size_list=[]\n",
    "for eps in np.linspace(.65,.95,50):\n",
    "    intersection=[]\n",
    "    intersection.append(col_list[0])\n",
    "\n",
    "    for i in range(len(col_list)):\n",
    "        in_flag=False\n",
    "        repeated_flag=False\n",
    "        for j in range(i+19*19,len(col_list)):\n",
    "            j=j%(19*19)\n",
    "            if abs(np.inner(col_list[i],col_list[j].conj()))>eps and i!=j:\n",
    "                repeated_flag=True\n",
    "                break\n",
    "            else:\n",
    "                repeated_flag=False\n",
    "        for j in range(len(intersection)):\n",
    "            if abs(np.inner(col_list[i],intersection[j].conj()))>eps:\n",
    "                in_flag=True\n",
    "                break\n",
    "            else:\n",
    "                in_flag=False\n",
    "        if repeated_flag and (not in_flag):\n",
    "            intersection.append(col_list[i])\n",
    "    size_list.append(len(intersection))\n",
    "        \n",
    "plt.plot(np.linspace(.65,.95,50),size_list)\n",
    "#print(f'shape of the union with removin: {len(intersection)}')\n",
    "#print(f'avg max: {np.mean(max_inners)}, min max: {np.min(max_inners)}, num>.99: {len(max_inners[max_inners>.99])}')\n",
    "#for i in range(len(torch_inners)):\n",
    "\n",
    " #   torch_inners[i]=torch_inners[i]/np.max(torch_inners[i])\n",
    "for eps in [.75]:\n",
    "    intersection=[]\n",
    "    intersection.append(col_list[0])\n",
    "\n",
    "    for i in range(len(col_list)):\n",
    "        in_flag=False\n",
    "        repeated_flag=False\n",
    "        for j in range(i+19*19,len(col_list)):\n",
    "            j=j%(19*19)\n",
    "            if abs(np.inner(col_list[i],col_list[j].conj()))>eps and i!=j:\n",
    "                repeated_flag=True\n",
    "                break\n",
    "            else:\n",
    "                repeated_flag=False\n",
    "        for j in range(len(intersection)):\n",
    "            if abs(np.inner(col_list[i],intersection[j].conj()))>eps:\n",
    "                in_flag=True\n",
    "                break\n",
    "            else:\n",
    "                in_flag=False\n",
    "        if repeated_flag and (not in_flag):\n",
    "            intersection.append(col_list[i])\n",
    "\n",
    "intersection=np.array(intersection)\n",
    "print(f'shape of the union with removin: {intersection.shape}')"
   ]
  },
  {
   "cell_type": "code",
   "execution_count": 31,
   "metadata": {},
   "outputs": [
    {
     "name": "stdout",
     "output_type": "stream",
     "text": [
      "(806,) 1.0000001597950359\n"
     ]
    },
    {
     "data": {
      "text/plain": [
       "351"
      ]
     },
     "execution_count": 31,
     "metadata": {},
     "output_type": "execute_result"
    }
   ],
   "source": [
    "medium_hat=intersection\n",
    "print(medium_hat[0].shape, sum(abs(medium_hat[0]**2)))\n",
    "#medium_hat=F.normalize(medium_hat, dim=-1)\n",
    "#medium_hat=medium_hat.cpu().detach().numpy()\n",
    "#medium_hat=H.cat2complex(medium_hat)                    \n",
    "torch_inners=[np.max(np.abs(np.inner(medium_hat,medium.T.conj()[i]) )) for i in range(361)] #entry i j is ghat_i dot bar(g_j) \n",
    "        #original way of computing inners\n",
    "        # mean over true max over hats\n",
    "torch_inners=np.array(torch_inners)\n",
    "len(torch_inners)\n",
    "np.mean(torch_inners)\n",
    "len(torch_inners[torch_inners>.99])\n",
    "#index_list=[]\n",
    "#for i in range(int(outdim*2)):\n",
    "#    if max(torch_inners[:, i])>.99 and i not in index_list:\n",
    "#        index_list.append(i)\n",
    "#    sum_max_inner_original=sum_max_inner_original+max(torch_inners[:, i])\n",
    "#max_avg_inners_original=sum_max_inner_original/(int(outdim*2))\n",
    "#len(index_list), max_avg_inners_original\n"
   ]
  },
  {
   "cell_type": "code",
   "execution_count": 19,
   "metadata": {},
   "outputs": [
    {
     "data": {
      "text/plain": [
       "((806, 361), (360, 403))"
      ]
     },
     "execution_count": 19,
     "metadata": {},
     "output_type": "execute_result"
    }
   ],
   "source": [
    "medium.shape, medium_hat.shape"
   ]
  },
  {
   "cell_type": "code",
   "execution_count": 19,
   "metadata": {},
   "outputs": [
    {
     "data": {
      "text/plain": [
       "<matplotlib.collections.LineCollection at 0x7ddeea73fd00>"
      ]
     },
     "execution_count": 19,
     "metadata": {},
     "output_type": "execute_result"
    },
    {
     "data": {
      "image/png": "[encoded data removed]",
      "text/plain": [
       "<Figure size 640x480 with 1 Axes>"
      ]
     },
     "metadata": {},
     "output_type": "display_data"
    },
    {
     "ename": "",
     "evalue": "",
     "output_type": "error",
     "traceback": [
      "\u001b[1;31mThe Kernel crashed while executing code in the current cell or a previous cell. \n",
      "\u001b[1;31mPlease review the code in the cell(s) to identify a possible cause of the failure. \n",
      "\u001b[1;31mClick <a href='https://aka.ms/vscodeJupyterKernelCrash'>here</a> for more info. \n",
      "\u001b[1;31mView Jupyter <a href='command:jupyter.viewOutput'>log</a> for further details."
     ]
    }
   ],
   "source": [
    "X=col_list\n",
    "X = np.concatenate([X.real, X.imag], axis=1)\n",
    "columns=X\n",
    "num_clusters=[]\n",
    "eps_linspace=np.linspace(.5,1.0,30)\n",
    "for eps in eps_linspace:\n",
    "    DBSCAN_fit=DBSCAN(eps=eps, min_samples=2).fit(X)\n",
    "    DBSCAN_fit.labels_\n",
    "    X_clustered=X[DBSCAN_fit.labels_!=-1]\n",
    "    len(X_clustered)\n",
    "    cluster_sizes=[len(X[DBSCAN_fit.labels_==i]) for i in range(max(DBSCAN_fit.labels_))]\n",
    "    dist_in_cluster=[]\n",
    "    for i in range(max(DBSCAN_fit.labels_)):\n",
    "        X_in_cluster=X[DBSCAN_fit.labels_==i]\n",
    "        dist_matrix=distance_matrix(X_in_cluster, X_in_cluster)\n",
    "        max_dist_in_cluster=np.max(dist_matrix)\n",
    "        #dist=sum((X_in_cluster[0]-X_in_cluster[1])**2)**(1/2)\n",
    "        dist_in_cluster.append(max_dist_in_cluster)\n",
    "    # if len(X[DBSCAN_fit.labels_==i])>1:\n",
    "    #     dist_in_cluster.append(np.mean(np.sum((X[DBSCAN_fit.labels_==i]-np.mean(X[DBSCAN_fit.labels_==i], axis=0))**2, axis=1))\n",
    "    # else:\n",
    "    #     dist_in_cluster.append(0)\n",
    "    dist_in_cluster#=[np.mean(np.sum((X[DBSCAN_fit.labels_==i]-np.mean(X[DBSCAN_fit.labels_==i], axis=0))**2, axis=1)) for i in range(max(DBSCAN_fit.labels_))]\n",
    "    dist_in_cluster.sort()\n",
    "    #plt.plot([i for i in range(len(dist_in_cluster))], dist_in_cluster)\n",
    "    num_clusters.append(len(cluster_sizes))\n",
    "    #print('largest cluster, number clustered (dbscan), number of clusters=: ',max(cluster_sizes), sum(cluster_sizes),len(cluster_sizes)) #Num of )\n",
    "plt.plot(eps_linspace, num_clusters, label='DBSCAN number of clusters')\n",
    "plt.hlines(19**2, eps_linspace[0],eps_linspace[-1], colors='r', linestyles='dashed', label='True number of columns')"
   ]
  },
  {
   "cell_type": "code",
   "execution_count": 58,
   "metadata": {},
   "outputs": [
    {
     "data": {
      "text/plain": [
       "<matplotlib.collections.LineCollection at 0x70c6d0ecbd90>"
      ]
     },
     "execution_count": 58,
     "metadata": {},
     "output_type": "execute_result"
    },
    {
     "data": {
      "image/png": "[encoded data removed]",
      "text/plain": [
       "<Figure size 640x480 with 1 Axes>"
      ]
     },
     "metadata": {},
     "output_type": "display_data"
    }
   ],
   "source": [
    "eps_linspace=np.linspace(.85,1.0,100)\n",
    "\n",
    "plt.plot(eps_linspace, num_clusters, label='DBSCAN number of clusters')\n",
    "plt.hlines(19**2, eps_linspace[0],eps_linspace[-1], colors='r', linestyles='dashed', label='True number of columns')"
   ]
  },
  {
   "cell_type": "code",
   "execution_count": 45,
   "metadata": {},
   "outputs": [
    {
     "data": {
      "text/plain": [
       "841"
      ]
     },
     "execution_count": 45,
     "metadata": {},
     "output_type": "execute_result"
    }
   ],
   "source": [
    "len(cluster_sizes)"
   ]
  },
  {
   "cell_type": "code",
   "execution_count": 82,
   "metadata": {},
   "outputs": [
    {
     "data": {
      "text/plain": [
       "(0.9932644788601694, 0.9932644788601694, (361, 361))"
      ]
     },
     "execution_count": 82,
     "metadata": {},
     "output_type": "execute_result"
    }
   ],
   "source": [
    "medium_hat=np.array(intersection)\n",
    "torch_inners=np.abs(np.inner(medium_hat,medium.T.conj()) ) #entry i j is ghat_i dot bar(g_j) \n",
    "max_inners=np.max(torch_inners, axis=1)\n",
    "\n",
    "max_inners_2=[max(torch_inners[:,i]) for i in range(torch_inners.shape[1])]\n",
    "max_inners_2=np.array(max_inners_2)\n",
    "max_inners_2[0],max_inners[0],torch_inners.shape\n"
   ]
  },
  {
   "cell_type": "code",
   "execution_count": 77,
   "metadata": {},
   "outputs": [
    {
     "data": {
      "text/plain": [
       "(0.9816059730577933, 0.9073889432874437, 273, 0.5285633787271118)"
      ]
     },
     "execution_count": 77,
     "metadata": {},
     "output_type": "execute_result"
    }
   ],
   "source": [
    "index_list=[]\n",
    "sum_max_inner_original=0\n",
    "max_list=[]\n",
    "for i in range(361):\n",
    "    max_list.append(max(torch_inners[:, i]))\n",
    "    if max(torch_inners[:, i])>.99 and i not in index_list:\n",
    "        index_list.append(i)\n",
    "    sum_max_inner_original=sum_max_inner_original+max(torch_inners[:, i])\n",
    "max_avg_inners_original=sum_max_inner_original/361\n",
    "\n",
    "min(max_inners),max_avg_inners_original,len(index_list),min(max_list)"
   ]
  },
  {
   "cell_type": "code",
   "execution_count": 12,
   "metadata": {},
   "outputs": [
    {
     "data": {
      "text/plain": [
       "[<matplotlib.lines.Line2D at 0x7b31d51199d0>]"
      ]
     },
     "execution_count": 12,
     "metadata": {},
     "output_type": "execute_result"
    },
    {
     "data": {
      "image/png": "[encoded data removed]",
      "text/plain": [
       "<Figure size 640x480 with 1 Axes>"
      ]
     },
     "metadata": {},
     "output_type": "display_data"
    }
   ],
   "source": [
    "def get_max(medium_hat):\n",
    "    sum_max_inner_original=0\n",
    "    medium= np.array(mat73.loadmat(data_path+'/rtt.mat')['Artt'])\n",
    "    torch_inners=np.abs(np.inner(medium_hat,medium.T.conj()) ) #entry i j is ghat_i dot bar(g_j) \n",
    "            #original way of computing inners\n",
    "            # mean over true max over hats\n",
    "    return np.max(torch_inners, axis=1)\n",
    "best_decs=col_list[:19*19]\n",
    "second_best_decs=col_list[19*19:19*19+19*19]\n",
    "intersection=[]\n",
    "d1_max=get_max(best_decs)\n",
    "d2_max=get_max(second_best_decs)\n",
    "\n",
    "plt.plot(d1_max)\n",
    "plt.plot(d2_max)\n"
   ]
  },
  {
   "cell_type": "code",
   "execution_count": 92,
   "metadata": {},
   "outputs": [
    {
     "data": {
      "text/plain": [
       "<matplotlib.collections.LineCollection at 0x7b318f0680a0>"
      ]
     },
     "execution_count": 92,
     "metadata": {},
     "output_type": "execute_result"
    },
    {
     "data": {
      "image/png": "[encoded data removed]",
      "text/plain": [
       "<Figure size 640x480 with 1 Axes>"
      ]
     },
     "metadata": {},
     "output_type": "display_data"
    }
   ],
   "source": [
    "X=col_list\n",
    "X = np.concatenate([X.real, X.imag], axis=1)\n",
    "columns=X\n",
    "num_clusters=[]\n",
    "for eps in np.linspace(.15,.25,500):\n",
    "    DBSCAN_fit=DBSCAN(eps=eps, min_samples=2).fit(X)\n",
    "    DBSCAN_fit.labels_\n",
    "    X_clustered=X[DBSCAN_fit.labels_!=-1]\n",
    "    len(X_clustered)\n",
    "    cluster_sizes=[len(X[DBSCAN_fit.labels_==i]) for i in range(max(DBSCAN_fit.labels_))]\n",
    "    dist_in_cluster=[]\n",
    "    for i in range(max(DBSCAN_fit.labels_)):\n",
    "        X_in_cluster=X[DBSCAN_fit.labels_==i]\n",
    "        dist_matrix=distance_matrix(X_in_cluster, X_in_cluster)\n",
    "        max_dist_in_cluster=np.max(dist_matrix)\n",
    "        #dist=sum((X_in_cluster[0]-X_in_cluster[1])**2)**(1/2)\n",
    "        dist_in_cluster.append(max_dist_in_cluster)\n",
    "    # if len(X[DBSCAN_fit.labels_==i])>1:\n",
    "    #     dist_in_cluster.append(np.mean(np.sum((X[DBSCAN_fit.labels_==i]-np.mean(X[DBSCAN_fit.labels_==i], axis=0))**2, axis=1))\n",
    "    # else:\n",
    "    #     dist_in_cluster.append(0)\n",
    "    dist_in_cluster#=[np.mean(np.sum((X[DBSCAN_fit.labels_==i]-np.mean(X[DBSCAN_fit.labels_==i], axis=0))**2, axis=1)) for i in range(max(DBSCAN_fit.labels_))]\n",
    "    dist_in_cluster.sort()\n",
    "    #plt.plot([i for i in range(len(dist_in_cluster))], dist_in_cluster)\n",
    "    num_clusters.append(len(cluster_sizes))\n",
    "    #print('largest cluster, number clustered (dbscan), number of clusters=: ',max(cluster_sizes), sum(cluster_sizes),len(cluster_sizes)) #Num of )\n",
    "plt.plot(np.linspace(.15,.25,500), num_clusters, label='DBSCAN number of clusters')\n",
    "plt.hlines(19**2, .15,.25, colors='r', linestyles='dashed', label='True number of columns')"
   ]
  },
  {
   "cell_type": "code",
   "execution_count": 91,
   "metadata": {},
   "outputs": [
    {
     "data": {
      "text/plain": [
       "[<matplotlib.lines.Line2D at 0x7b318f0d22e0>]"
      ]
     },
     "execution_count": 91,
     "metadata": {},
     "output_type": "execute_result"
    },
    {
     "data": {
      "image/png": "[encoded data removed]",
      "text/plain": [
       "<Figure size 640x480 with 1 Axes>"
      ]
     },
     "metadata": {},
     "output_type": "display_data"
    }
   ],
   "source": []
  },
  {
   "cell_type": "code",
   "execution_count": 26,
   "metadata": {},
   "outputs": [
    {
     "data": {
      "text/plain": [
       "0.9999999933434083"
      ]
     },
     "execution_count": 26,
     "metadata": {},
     "output_type": "execute_result"
    }
   ],
   "source": [
    "sum(abs(intersection[0])**2)"
   ]
  },
  {
   "cell_type": "code",
   "execution_count": 185,
   "metadata": {},
   "outputs": [
    {
     "name": "stdout",
     "output_type": "stream",
     "text": [
      "342\n"
     ]
    }
   ],
   "source": [
    "best_decs=col_list[:19*19]\n",
    "second_best_decs=col_list[19*19:19*19+19*19]\n",
    "intersection=[]\n",
    "\n",
    "for i in best_decs:\n",
    "    for j in second_best_decs:\n",
    "        if abs(np.inner(i,j.conj()))>0.98:\n",
    "            intersection.append(i)\n",
    "            break\n",
    "print(len(intersection))"
   ]
  },
  {
   "cell_type": "code",
   "execution_count": 186,
   "metadata": {},
   "outputs": [
    {
     "data": {
      "text/plain": [
       "(351, 347, 0.9925381510045287, 0.9913047515140315, 341)"
      ]
     },
     "execution_count": 186,
     "metadata": {},
     "output_type": "execute_result"
    }
   ],
   "source": [
    "def get_max_avg(medium_hat):\n",
    "    sum_max_inner_original=0\n",
    "    medium= np.array(mat73.loadmat(data_path+'/rtt.mat')['Artt'])\n",
    "    torch_inners=np.abs(np.inner(medium_hat,medium.T.conj()) ) #entry i j is ghat_i dot bar(g_j) \n",
    "            #original way of computing inners\n",
    "            # mean over true max over hats\n",
    "    index_list=[]\n",
    "    for i in range(int(outdim*2)):\n",
    "        if max(torch_inners[:, i])>.99 and i not in index_list:\n",
    "            index_list.append(i)\n",
    "        sum_max_inner_original=sum_max_inner_original+max(torch_inners[:, i])\n",
    "    max_avg_inners_original=sum_max_inner_original/(int(outdim*2))\n",
    "    return index_list, max_avg_inners_original\n",
    "\n",
    "\n",
    "\n",
    "\n",
    "\n",
    "\n",
    "\n",
    "inds, avg=get_max_avg(best_decs)\n",
    "inds_2, avg_2=get_max_avg(second_best_decs)\n",
    "len(inds), len(inds_2), avg, avg_2 ,len(set(inds).intersection(set(inds_2)))"
   ]
  },
  {
   "cell_type": "code",
   "execution_count": 187,
   "metadata": {},
   "outputs": [],
   "source": [
    "medium= np.array(mat73.loadmat(data_path+'/rtt.mat')['Artt'])\n",
    "medium_hat=best_decs\n",
    "medium_hat2=second_best_decs\n",
    "for i in range(len(medium_hat)):\n",
    "    if np.allclose(medium.transpose()[0],medium_hat[i]):\n",
    "        print(f'M1 all close at index {i}')\n",
    "    if np.allclose(medium.transpose()[0],medium_hat2[i]):\n",
    "        print(f'M2 all close at index {i}')\n",
    "        \n",
    "torch_inners=np.abs(np.inner(medium_hat,medium.T.conj()) ) #entry i j is ghat_i dot bar(g_j) \n",
    " "
   ]
  },
  {
   "cell_type": "code",
   "execution_count": 85,
   "metadata": {},
   "outputs": [
    {
     "data": {
      "text/plain": [
       "((361,), (806,))"
      ]
     },
     "execution_count": 85,
     "metadata": {},
     "output_type": "execute_result"
    }
   ],
   "source": [
    "medium[0].shape,medium_hat[i].shape"
   ]
  },
  {
   "cell_type": "markdown",
   "metadata": {},
   "source": [
    "(351/361), (293/361)----> missed (10/361), (68/361)"
   ]
  },
  {
   "cell_type": "code",
   "execution_count": 188,
   "metadata": {},
   "outputs": [
    {
     "name": "stdout",
     "output_type": "stream",
     "text": [
      "M2 all close at index 117\n",
      "0.9958233696544182\n",
      "M1 all close at index 161\n"
     ]
    },
    {
     "data": {
      "text/plain": [
       "(0.009779493, 0.053249758)"
      ]
     },
     "execution_count": 188,
     "metadata": {},
     "output_type": "execute_result"
    }
   ],
   "source": [
    "medium= np.array(mat73.loadmat(data_path+'/rtt.mat')['Artt'])\n",
    "medium_hat=best_decs\n",
    "medium_hat2=second_best_decs\n",
    "j=40\n",
    "for i in range(len(medium_hat)):\n",
    "    if abs(np.inner(medium.transpose()[j],medium_hat[i].conj()))>0.99:\n",
    "        print(abs(np.inner(medium.transpose()[j], medium_hat[i].conj())))\n",
    "        print(f'M1 all close at index {i}')\n",
    "        M=medium_hat[i].conj()\n",
    "    if abs(np.inner(medium.transpose()[j],medium_hat2[i].conj()))>.99:\n",
    "        print(f'M2 all close at index {i}')\n",
    "    #if np.allclose(medium.transpose()[5],medium_hat[i]):\n",
    "    #    print(f'M1 all close at index {i}')\n",
    "    #if np.allclose(medium.transpose()[0],medium_hat2[i]):\n",
    "    #    print(f'M2 all close at index {i}')\n",
    "        \n",
    "#torch_inners=np.abs(np.inner(medium_hat,medium.T.conj()) ) #entry i j is ghat_i dot bar(g_j) \n",
    "abs(np.inner(medium_hat[17], medium_hat2[300].conj())), abs(np.inner(M.conj(), medium_hat[17].conj()))"
   ]
  },
  {
   "cell_type": "code",
   "execution_count": 155,
   "metadata": {},
   "outputs": [
    {
     "data": {
      "text/plain": [
       "(0.98949236, 0.9929563352907004)"
      ]
     },
     "execution_count": 155,
     "metadata": {},
     "output_type": "execute_result"
    }
   ],
   "source": [
    "abs(np.inner(medium_hat[300], medium_hat2[17].conj())), abs(np.inner(medium.transpose()[j], medium_hat[300].conj()))"
   ]
  },
  {
   "cell_type": "code",
   "execution_count": 190,
   "metadata": {},
   "outputs": [
    {
     "data": {
      "text/plain": [
       "(0.9895881, 0.06303961071433435)"
      ]
     },
     "execution_count": 190,
     "metadata": {},
     "output_type": "execute_result"
    }
   ],
   "source": [
    "abs(np.inner(medium_hat[161], medium_hat2[117].conj())), abs(np.inner(medium.transpose()[j], medium_hat[66].conj()))"
   ]
  },
  {
   "cell_type": "code",
   "execution_count": 152,
   "metadata": {},
   "outputs": [
    {
     "data": {
      "text/plain": [
       "(array([-0.0231919 +0.04800251j, -0.01716773+0.03939999j,\n",
       "        -0.00609548+0.02506872j], dtype=complex64),\n",
       " array([-0.0231919 -0.04800251j, -0.01716773-0.03939999j,\n",
       "        -0.00609548-0.02506872j], dtype=complex64))"
      ]
     },
     "execution_count": 152,
     "metadata": {},
     "output_type": "execute_result"
    }
   ],
   "source": [
    "M[:3], medium_hat[300][:3]"
   ]
  },
  {
   "cell_type": "code",
   "execution_count": 147,
   "metadata": {},
   "outputs": [
    {
     "data": {
      "text/plain": [
       "((806,), (806,))"
      ]
     },
     "execution_count": 147,
     "metadata": {},
     "output_type": "execute_result"
    }
   ],
   "source": [
    "M.shape, medium_hat[17].shape"
   ]
  },
  {
   "cell_type": "code",
   "execution_count": 8,
   "metadata": {},
   "outputs": [
    {
     "name": "stdout",
     "output_type": "stream",
     "text": [
      "shape of the union without removin: (18050, 806)\n"
     ]
    },
    {
     "data": {
      "text/plain": [
       "[<matplotlib.lines.Line2D at 0x79e5d008f340>]"
      ]
     },
     "execution_count": 8,
     "metadata": {},
     "output_type": "execute_result"
    },
    {
     "data": {
      "image/png": "[encoded data removed]",
      "text/plain": [
       "<Figure size 640x480 with 1 Axes>"
      ]
     },
     "metadata": {},
     "output_type": "display_data"
    }
   ],
   "source": [
    "col_list=get_cluster_data(decoder_locats)\n",
    "print(f'shape of the union without removin: {col_list.shape}')\n",
    "size_list=[]\n",
    "eps_lin=np.linspace(.95,.99,10)\n",
    "for eps in eps_lin:\n",
    "    intersection=[]\n",
    "    intersection.append(col_list[0])\n",
    "\n",
    "    for i in range(len(col_list)):\n",
    "        in_flag=False\n",
    "        repeated_flag=False\n",
    "        for j in range(1,len(col_list)):\n",
    "            j=(i+19*19+j)%(19*19)\n",
    "            if abs(np.inner(col_list[i],col_list[j].conj()))>eps and i!=j:\n",
    "                repeated_flag=True\n",
    "                break\n",
    "            else:\n",
    "                repeated_flag=False\n",
    "        for j in range(len(intersection)):\n",
    "            if abs(np.inner(col_list[i],intersection[j].conj()))>eps:\n",
    "                in_flag=True\n",
    "                break\n",
    "            else:\n",
    "                in_flag=False\n",
    "        if repeated_flag and (not in_flag):\n",
    "            intersection.append(col_list[i])\n",
    "    size_list.append(len(intersection))\n",
    "        \n",
    "plt.plot(eps_lin,size_list)"
   ]
  },
  {
   "cell_type": "code",
   "execution_count": 44,
   "metadata": {},
   "outputs": [
    {
     "data": {
      "text/plain": [
       "0.9743225274336376"
      ]
     },
     "execution_count": 44,
     "metadata": {},
     "output_type": "execute_result"
    }
   ],
   "source": [
    "sum_max_inner_original=0\n",
    "medium_hat=intersection\n",
    "otherway=0\n",
    "torch_inners=np.abs(np.inner(medium_hat,medium.T.conj()) ) #entry i j is ghat_i dot bar(g_j) \n",
    "        #original way of computing inners\n",
    "        # mean over true max over hats\n",
    "index_list=[]\n",
    "for i in range(int(outdim*2)):\n",
    "    if max(torch_inners[:, i])>.99 and i not in index_list:\n",
    "        index_list.append(i)\n",
    "    sum_max_inner_original=sum_max_inner_original+max(torch_inners[:, i])\n",
    "max_avg_inners_original=sum_max_inner_original/(int(outdim*2))\n",
    "\n",
    "index_list_outs=[]\n",
    "for i in range(int(outdim*2)):\n",
    "    if max(torch_inners[:, i])<.95 and i not in index_list_outs:\n",
    "        index_list_outs.append(i)\n",
    "    \n",
    "\n",
    "#lr_scheduler_enc.step()\n",
    "#lr_scheduler_decod.step()\n",
    "#sum_max_inner_original=0      \n",
    "        #original way of computing inners\n",
    "        # mean over true max over hats\n",
    "maxG_inner_list=[max(torch_inners[:, i]) for i in range(int(outdim*2))]\n",
    "\n",
    "max_avg_inners_original"
   ]
  },
  {
   "cell_type": "code",
   "execution_count": 40,
   "metadata": {},
   "outputs": [
    {
     "name": "stdout",
     "output_type": "stream",
     "text": [
      "shape of the union without removin: (18050, 806)\n"
     ]
    },
    {
     "data": {
      "text/plain": [
       "[<matplotlib.lines.Line2D at 0x79e57c4dedf0>]"
      ]
     },
     "execution_count": 40,
     "metadata": {},
     "output_type": "execute_result"
    },
    {
     "data": {
      "image/png": "[encoded data removed]",
      "text/plain": [
       "<Figure size 640x480 with 1 Axes>"
      ]
     },
     "metadata": {},
     "output_type": "display_data"
    }
   ],
   "source": [
    "col_list=get_cluster_data(decoder_locats)\n",
    "print(f'shape of the union without removin: {col_list.shape}')\n",
    "size_list=[]\n",
    "eps_lin=[.98, .985, .99, .991]\n",
    "for eps in eps_lin:\n",
    "    intersection=[]\n",
    "    intersection.append(col_list[0])\n",
    "\n",
    "    for i in range(len(col_list)):\n",
    "        in_flag=False\n",
    "        repeated_flag=False\n",
    "        for j in range(1,len(col_list)):\n",
    "            j=(i+19*19+j)%(19*19)\n",
    "            if abs(np.inner(col_list[i],col_list[j].conj()))>eps and i!=j:\n",
    "                repeated_flag=True\n",
    "                break\n",
    "            else:\n",
    "                repeated_flag=False\n",
    "        for j in range(len(intersection)):\n",
    "            if abs(np.inner(col_list[i],intersection[j].conj()))>.8:\n",
    "                in_flag=True\n",
    "                break\n",
    "            else:\n",
    "                in_flag=False\n",
    "        if repeated_flag and (not in_flag):\n",
    "            intersection.append(col_list[i])\n",
    "    size_list.append(len(intersection))\n",
    "        \n",
    "plt.plot(eps_lin,size_list)"
   ]
  },
  {
   "cell_type": "code",
   "execution_count": 41,
   "metadata": {},
   "outputs": [
    {
     "data": {
      "text/plain": [
       "[334]"
      ]
     },
     "execution_count": 41,
     "metadata": {},
     "output_type": "execute_result"
    }
   ],
   "source": [
    "size_list"
   ]
  },
  {
   "cell_type": "code",
   "execution_count": 17,
   "metadata": {},
   "outputs": [],
   "source": [
    "intersection.shape\n",
    "sum_max_inner_original=0\n",
    "medium_hat=intersection\n",
    "otherway=0\n",
    "torch_inners=np.abs(np.inner(medium_hat,medium.T.conj()) ) #entry i j is ghat_i dot bar(g_j) \n",
    "        #original way of computing inners\n",
    "        # mean over true max over hats\n",
    "index_list=[]\n",
    "for i in range(int(outdim*2)):\n",
    "    if max(torch_inners[:, i])>.99 and i not in index_list:\n",
    "        index_list.append(i)\n",
    "    sum_max_inner_original=sum_max_inner_original+max(torch_inners[:, i])\n",
    "max_avg_inners_original=sum_max_inner_original/(int(outdim*2))\n",
    "\n",
    "index_list_outs=[]\n",
    "for i in range(int(outdim*2)):\n",
    "    if max(torch_inners[:, i])<.95 and i not in index_list_outs:\n",
    "        index_list_outs.append(i)\n",
    "    \n",
    "\n",
    "#lr_scheduler_enc.step()\n",
    "#lr_scheduler_decod.step()\n",
    "#sum_max_inner_original=0      \n",
    "        #original way of computing inners\n",
    "        # mean over true max over hats\n",
    "maxG_inner_list=[max(torch_inners[:, i]) for i in range(int(outdim*2))]\n",
    "\n",
    " max_avg_inners_original"
   ]
  },
  {
   "cell_type": "code",
   "execution_count": 19,
   "metadata": {},
   "outputs": [
    {
     "data": {
      "text/plain": [
       "31"
      ]
     },
     "execution_count": 19,
     "metadata": {},
     "output_type": "execute_result"
    }
   ],
   "source": [
    "len(index_list)"
   ]
  },
  {
   "cell_type": "code",
   "execution_count": 20,
   "metadata": {},
   "outputs": [
    {
     "data": {
      "text/plain": [
       "0.9747579726564"
      ]
     },
     "execution_count": 20,
     "metadata": {},
     "output_type": "execute_result"
    }
   ],
   "source": []
  },
  {
   "cell_type": "code",
   "execution_count": 38,
   "metadata": {},
   "outputs": [
    {
     "name": "stdout",
     "output_type": "stream",
     "text": [
      "[0.9978011, 0.9978011, 0.99780947, 0.9978536, 0.9978828] [0.99800396, 0.99837613, 0.99839664, 0.99876887, 0.99889874] 12\n",
      "[0.99659824, 0.99659824, 0.99668086, 0.99670136, 0.99670404] [0.99670404, 0.9967123, 0.99680835, 0.99681234, 0.99694425] 9\n",
      "[0.9977099, 0.9977099, 0.99771523, 0.99771553, 0.9977175] [0.99785423, 0.99797285, 0.9980465, 0.99828464, 0.998429] 14\n",
      "[0.99692935, 0.99692935, 0.9969955, 0.9969955, 0.9970249] [0.99732107, 0.9974383, 0.997554, 0.9978738, 0.9985315] 12\n",
      "[0.98679465, 0.98679465, 0.986889, 0.98743856, 0.990875] [0.9911077, 0.9911911, 0.99179655, 0.9921622, 0.99232394] 12\n",
      "[0.9959373, 0.9959373, 0.9963674, 0.9963815, 0.9964518] [0.99734825, 0.99739665, 0.9975024, 0.9975119, 0.9976469] 13\n",
      "[0.992789, 0.992789, 0.9937302, 0.99424493, 0.994246] [0.994618, 0.9948752, 0.99512047, 0.99582344, 0.9966915] 10\n"
     ]
    }
   ],
   "source": [
    "col_list=get_cluster_data(decoder_locats)\n",
    "num_times_recovered_list=[]\n",
    "inn_list_max_list=[]\n",
    "for k in range(361):\n",
    "    G_i=medium.T[k]\n",
    "    G_i_hats=[]\n",
    "\n",
    "    for i in col_list:\n",
    "        inn_list=abs(np.inner(G_i, i.conj()))\n",
    "        if inn_list>.99:\n",
    "            G_i_hats.append(i)\n",
    "    #    num_times_recovered_list.append(num_times_recovered)\n",
    "    G_i_hats=np.array(G_i_hats)\n",
    "    G_i_hat_distanced=[np.sum(abs(G_i_hat-G_i)**2)**(1/2) for G_i_hat in G_i_hats]\n",
    "    G_i_hat_inners=[abs(np.inner(G_i_hat, G_i.conj())) for G_i_hat in G_i_hats]\n",
    "    G_i_hat_inners.sort()\n",
    "    G_i_hat_distanced.sort()\n",
    "    torch_inners=np.abs(np.inner(G_i_hats,G_i_hats.conj()) ) #entry i j is ghat_i dot bar(g_j) \n",
    "    min_inners=[min(torch_inners[i]) for i in range(len(G_i_hats))]\n",
    "    min_inners.sort()\n",
    "    if len(G_i_hats)<15:\n",
    "        print(min_inners[:5], min_inners[-5:], len(min_inners))"
   ]
  },
  {
   "cell_type": "code",
   "execution_count": 36,
   "metadata": {},
   "outputs": [
    {
     "name": "stdout",
     "output_type": "stream",
     "text": [
      "shape of the union without removin: (18050, 806), number for Expceriments: 50\n",
      "(806,)\n"
     ]
    },
    {
     "ename": "AttributeError",
     "evalue": "'list' object has no attribute 'indexOf'",
     "output_type": "error",
     "traceback": [
      "\u001b[0;31m---------------------------------------------------------------------------\u001b[0m",
      "\u001b[0;31mAttributeError\u001b[0m                            Traceback (most recent call last)",
      "Cell \u001b[0;32mIn[36], line 23\u001b[0m\n\u001b[1;32m     17\u001b[0m     num_times_recovered_list\u001b[38;5;241m.\u001b[39mappend(num_rec)\n\u001b[1;32m     19\u001b[0m     \u001b[38;5;66;03m#inn_list_max_list.append(np.max(inn_list))\u001b[39;00m\n\u001b[1;32m     20\u001b[0m     \u001b[38;5;66;03m#num_times_recovered=len(inn_list[inn_list>.99])\u001b[39;00m\n\u001b[1;32m     21\u001b[0m     \u001b[38;5;66;03m#num_times_recovered_list.append(num_times_recovered)\u001b[39;00m\n\u001b[0;32m---> 23\u001b[0m \u001b[38;5;28mprint\u001b[39m(\u001b[43mnum_times_recovered_list\u001b[49m\u001b[38;5;241;43m.\u001b[39;49m\u001b[43mindexOf\u001b[49m(\u001b[38;5;241m9\u001b[39m))\n\u001b[1;32m     24\u001b[0m num_times_recovered_list\u001b[38;5;241m=\u001b[39m\u001b[38;5;28msorted\u001b[39m(num_times_recovered_list)\n\u001b[1;32m     25\u001b[0m num_times_recovered_list[:\u001b[38;5;241m5\u001b[39m]\n",
      "\u001b[0;31mAttributeError\u001b[0m: 'list' object has no attribute 'indexOf'"
     ]
    }
   ],
   "source": [
    "col_list=get_cluster_data(decoder_locats)\n",
    "print(f'shape of the union without removin: {col_list.shape}, number for Expceriments: {len(col_list)//361}')\n",
    "for i in range(361):\n",
    "    G_i=medium.T[i]\n",
    "    print(G_i.shape)\n",
    "    break\n",
    "col_list=get_cluster_data(decoder_locats)\n",
    "num_times_recovered_list=[]\n",
    "inn_list_max_list=[]\n",
    "for i in range(361):\n",
    "    G_i=medium.T[i]\n",
    "    inn_list=abs(np.inner(G_i, col_list.conj()))\n",
    "    num_rec=0\n",
    "    for dumm in inn_list:\n",
    "        if dumm>.99:\n",
    "            num_rec=num_rec+1\n",
    "    num_times_recovered_list.append(num_rec)\n",
    "            \n",
    "    #inn_list_max_list.append(np.max(inn_list))\n",
    "    #num_times_recovered=len(inn_list[inn_list>.99])\n",
    "    #num_times_recovered_list.append(num_times_recovered)\n",
    "\n",
    "print(num_times_recovered_list.indexOf(9))\n",
    "num_times_recovered_list=sorted(num_times_recovered_list)\n",
    "num_times_recovered_list[:5]\n",
    "plt.plot([i for i in range(361)], num_times_recovered_list)\n",
    "print(num_times_recovered_list[:5])\n",
    "#Take all the 50 dictionaries and through this process of finding outliers "
   ]
  },
  {
   "cell_type": "code",
   "execution_count": 37,
   "metadata": {},
   "outputs": [
    {
     "name": "stdout",
     "output_type": "stream",
     "text": [
      "44\n"
     ]
    }
   ],
   "source": [
    "print(num_times_recovered_list.index(9))\n"
   ]
  },
  {
   "cell_type": "code",
   "execution_count": 3,
   "metadata": {},
   "outputs": [
    {
     "name": "stdout",
     "output_type": "stream",
     "text": [
      "(806, 361)\n",
      "(361, 361)\n",
      "coherence of data:  0.763143828697641\n",
      "Medium: (806, 361), Rho: (5000, 361), B: (5000, 806)\n",
      "shape of the union without removin: (18050, 806), number for Expceriments: 50\n",
      "(806,)\n"
     ]
    },
    {
     "data": {
      "text/plain": [
       "<matplotlib.collections.LineCollection at 0x7a40b48547f0>"
      ]
     },
     "execution_count": 3,
     "metadata": {},
     "output_type": "execute_result"
    },
    {
     "data": {
      "image/png": "[encoded data removed]",
      "text/plain": [
       "<Figure size 640x480 with 1 Axes>"
      ]
     },
     "metadata": {},
     "output_type": "display_data"
    }
   ],
   "source": [
    "#Notebooks for small tests\n",
    "import os  \n",
    "import pandas as pd\n",
    "import matplotlib.pyplot as plt\n",
    "import numpy as np\n",
    "import re\n",
    "plt.rcParams['axes.facecolor']='w'\n",
    "plt.rcParams['savefig.facecolor']='w'\n",
    "import matplotlib as mpl\n",
    "mpl.rcParams['figure.facecolor'] = 'white'\n",
    "#imports and plotting function\n",
    "import argparse\n",
    "import mat73\n",
    "import logging\n",
    "import numpy as np\n",
    "#import torchvision\n",
    "from datetime import datetime\n",
    "import os\n",
    "import scipy.io\n",
    "from torch.utils.data import DataLoader\n",
    "import io\n",
    "from PIL import Image\n",
    "import matplotlib\n",
    "matplotlib.use('Agg')\n",
    "import matplotlib.pyplot as plt\n",
    "import wandb\n",
    "import math\n",
    "import torch.nn.functional as F\n",
    "import torchvision.transforms as T\n",
    "import torch.nn as nn\n",
    "import torch\n",
    "import sys\n",
    "import torch.optim.lr_scheduler as lr_scheduler\n",
    "import wandb\n",
    "import torch\n",
    "from sklearn.preprocessing import StandardScaler\n",
    "import Models as M\n",
    "import Helpers as H\n",
    "import time\n",
    "import copy\n",
    "from torch.func import vmap\n",
    "from functorch.experimental import replace_all_batch_norm_modules_\n",
    "from sklearn.cluster import AgglomerativeClustering\n",
    "from scipy.spatial import distance_matrix\n",
    "from sklearn.cluster import DBSCAN\n",
    "\n",
    "\n",
    "%matplotlib inline\n",
    "\n",
    "encoder_out='sigmoid'\n",
    "cwd=os. getcwd()\n",
    "device = torch.device(\"cuda:1\" if torch.cuda.is_available() else \"cpu\")\n",
    "\n",
    "data_path=os.path.join(cwd,'Data/FoldyLox_all_seeds/FoldyLox_seed0')\n",
    "medium= np.array(mat73.loadmat(data_path+'/rtt.mat')['Artt'])\n",
    "print(medium.shape)\n",
    "inners=medium.transpose().conjugate()@medium\n",
    "print(inners.shape)\n",
    "coherence=0\n",
    "for i in inners:\n",
    "    for j in i:\n",
    "        if abs(j)>coherence and j<.99:\n",
    "            coherence=abs(j)\n",
    "print('coherence of data: ', coherence)\n",
    "#b=np.load(data_path+'/train/b.npy')\n",
    "#rho=np.load(data_path+'/train/rho.npy')\n",
    "#print(np.allclose(medium@rho[0],b[0]))\n",
    "index_list=[]\n",
    "unlabeled_data=5000\n",
    "if False: #This vlock is from betas sweep. good betas. Not optimal.\n",
    "    decoder_locats='/home/achristie/Codes_data/Experiment_data/rhosupport_stats/Classic_gelma/decoder_5000_0_'\n",
    "    timescampstrs={'07-14-29','09-46-07','14-35-38','13-49-42','09-45-53'} #they located in above or below\n",
    "    #            curr_decoder='/home/achristie/Codes_data/Experiment_data/rhosupport_stats/Classic_gelma/decoder_5000_1'+curr_decoder[-12:]\n",
    "\n",
    "\n",
    "\n",
    "if True:#This block is from tests done with all default (pytorch) parameters\n",
    "\n",
    "\n",
    "    decoder_locats='/home/achristie/Codes_data/Experiment_data/rhosupport_stats/Scaling_tests/10kepochs/decoder_5000_'\n",
    "    timescampstrs = [\n",
    "    \"44_00-31-12\",\n",
    "    \"47_00-31-10\",\n",
    "    \"43_18-10-40\",\n",
    "    \"46_18-10-39\",\n",
    "    \"41_18-10-04\",\n",
    "    \"49_18-00-09\",\n",
    "    \"48_11-52-40\",\n",
    "    \"45_11-50-38\",\n",
    "    \"42_11-50-21\",\n",
    "    \"40_11-49-46\",\n",
    "    \"25_8-6-24\",\n",
    "    \"24_01-54-27\",\n",
    "    \"9_21-43-17\",\n",
    "    \"4_21-42-58\",\n",
    "    \"23_17-55-08\",\n",
    "    \"29_15-29-37\",\n",
    "    \"39_15-11-34\",\n",
    "    \"34_15-09-31\",\n",
    "    \"8_13-43-00\",\n",
    "    \"3_13-42-41\",\n",
    "    \"22_09-55-47\",\n",
    "    \"38_08-50-47\",\n",
    "    \"33_08-47-54\",\n",
    "    \"28_08-46-30\",\n",
    "    \"7_05-43-01\",\n",
    "    \"2_05-42-47\",\n",
    "    \"37_02-29-47\",\n",
    "    \"32_2-26-51\",\n",
    "    \"27_2-25-22\",\n",
    "    \"21_01-56-27\",\n",
    "    \"6_21-43-02\",\n",
    "    \"1_21-42-47\",\n",
    "    \"36_20-08-25\",\n",
    "    \"31_20-05-29\",\n",
    "    \"26_20-04-14\",\n",
    "    \"20_17-57-14\",\n",
    "    \"35_13-47-33\",\n",
    "    \"30_13-44-32\",\n",
    "    \"5_13-43-10\",\n",
    "    \"0_13-42-53\",\n",
    "    \"19_11-58-46\",\n",
    "    \"18_8-27-31\",\n",
    "    \"17_5-3-27\",\n",
    "    \"16_01-39-09\",\n",
    "    \"15_22-14-51\",\n",
    "    \"14_17-34-09\",\n",
    "    \"13_12-36-21\",\n",
    "    \"12_9-12-21\",\n",
    "    \"11_05-47-25\",\n",
    "    \"10_1-9-58\"\n",
    "]\n",
    "\n",
    "#,'21-52-00','01-44-08','05-09-23','01-48-20', '09-27-26','05-27-23','08-57-23','03-35-41'}\n",
    "\n",
    "\n",
    "pixels='Gaussian_abs'\n",
    "\n",
    "\n",
    "decoder_locats=[decoder_locats+timescampstr+'.pt' for timescampstr in timescampstrs]\n",
    "training_data=H.data_rho_loaded(data_path+'/train',unlabeled_data/80000,pixels=pixels, normalize=False)\n",
    "indim=int(training_data.b[0].shape[0]/2)\n",
    "outdim=(training_data.rho[0].shape[0]/4)\n",
    "def get_cluster_data(decoder_locats):\n",
    "    Complex_eye=torch.cat((torch.eye(int(outdim*2)), torch.zeros((int(outdim*2),int(outdim*2)))), dim=1)\n",
    "\n",
    "    #Complex_eye=torch.eye(400)#.to(device)\n",
    "    columns=[]\n",
    "    \n",
    "    #decoder_locats=f'/home/achristie/Codes_data/Experiment_data/rhosupport_stats/5khighcohdatamodels/'\n",
    "    #decoder_locats = '/home/achristie/Codes_data/Experiment_data/rhosupport_stats/5khighcohdatamodels/'\n",
    "    #decoder_files = [f for f in os.listdir(decoder_locats) if f.startswith('decoder')]\n",
    "    for curr_decoder in decoder_locats:\n",
    "        decoder=M.norm_linear_complex(int(training_data.rho[0].shape[0]), int(training_data.b[0].shape[0]), normalize=False)  #R^ {N_k} -> C^{N_rec*N_freq}\n",
    "\n",
    "        #decoder=M.norm_linear_complex(int(training_data.rho[0].shape[0]/2), int(training_data.b[0].shape[0]), normalize=False)  #R^ {N_k} -> C^{N_rec*N_freq}\n",
    "        try:\n",
    "            decoder.load_state_dict(torch.load(curr_decoder))\n",
    "        except:\n",
    "            #curr_decoder='/home/achristie/Codes_data/Experiment_data/rhosupport_stats/Classic_gelma/decoder_5000_1'+curr_decoder[-12:]\n",
    "            #decoder.load_state_dict(torch.load(curr_decoder))\n",
    "            pass\n",
    "        medium_hat=decoder(Complex_eye).squeeze()\n",
    "        #print(medium_hat.shape)\n",
    "        medium_hat=F.normalize(medium_hat, dim=-1)\n",
    "        medium_hat=medium_hat.cpu().detach().numpy()\n",
    "        medium_hat=H.cat2complex(medium_hat)                    \n",
    "        columns.append(medium_hat)\n",
    "    columns=np.array(columns)\n",
    "    return  np.row_stack(columns)\n",
    "\n",
    "\n",
    "col_list=get_cluster_data(decoder_locats)\n",
    "print(f'shape of the union without removin: {col_list.shape}, number for Expceriments: {len(col_list)//361}')\n",
    "for i in range(361):\n",
    "    G_i=medium.T[i]\n",
    "    print(G_i.shape)\n",
    "    break\n",
    "\n",
    "def db_inner(a,b):\n",
    "    a=H.cat2complex(a)\n",
    "    b=H.cat2complex(b)\n",
    "    return 1-abs(np.inner(a,b.conj()))\n",
    "X=col_list\n",
    "X = np.concatenate([X.real, X.imag], axis=1)\n",
    "columns=X\n",
    "num_clusters=[]\n",
    "eps_linspace=np.linspace(.2,.7,50)\n",
    "torch_inner=np.abs(1.0-(np.abs(np.inner(col_list,col_list.conj()))))\n",
    "\n",
    "for eps in eps_linspace:\n",
    "    DBSCAN_fit=DBSCAN(eps=eps, min_samples=5, metric='precomputed').fit(torch_inner)\n",
    "\n",
    "    DBSCAN_fit.labels_\n",
    "    X_clustered=X[DBSCAN_fit.labels_!=-1]\n",
    "    len(X_clustered)\n",
    "    cluster_sizes=[len(X[DBSCAN_fit.labels_==i]) for i in range(max(DBSCAN_fit.labels_))]\n",
    "    #dist_in_cluster=[]\n",
    "    #for i in range(max(DBSCAN_fit.labels_)):\n",
    "        #X_in_cluster=X[DBSCAN_fit.labels_==i]\n",
    "        #dist_matrix=distance_matrix(X_in_cluster, X_in_cluster)\n",
    "        #max_dist_in_cluster=np.max(dist_matrix)\n",
    "        #dist=sum((X_in_cluster[0]-X_in_cluster[1])**2)**(1/2)\n",
    "        #dist_in_cluster.append(max_dist_in_cluster)\n",
    "    # if len(X[DBSCAN_fit.labels_==i])>1:\n",
    "    #     dist_in_cluster.append(np.mean(np.sum((X[DBSCAN_fit.labels_==i]-np.mean(X[DBSCAN_fit.labels_==i], axis=0))**2, axis=1))\n",
    "    # else:\n",
    "    #     dist_in_cluster.append(0)\n",
    "    #dist_in_cluster#=[np.mean(np.sum((X[DBSCAN_fit.labels_==i]-np.mean(X[DBSCAN_fit.labels_==i], axis=0))**2, axis=1)) for i in range(max(DBSCAN_fit.labels_))]\n",
    "    #dist_in_cluster.sort()\n",
    "    #plt.plot([i for i in range(len(dist_in_cluster))], dist_in_cluster)\n",
    "    num_clusters.append(len(cluster_sizes))\n",
    "    #print('largest cluster, number clustered (dbscan), number of clusters=: ',max(cluster_sizes), sum(cluster_sizes),len(cluster_sizes)) #Num of )\n",
    "plt.plot(eps_linspace, num_clusters, label='DBSCAN number of clusters')\n",
    "plt.hlines(19**2, eps_linspace[0],eps_linspace[-1], colors='r', linestyles='dashed', label='True number of columns')"
   ]
  },
  {
   "cell_type": "code",
   "execution_count": 12,
   "metadata": {},
   "outputs": [
    {
     "name": "stdout",
     "output_type": "stream",
     "text": [
      "(361, 806)\n",
      "0.9998468939148394 0.9998468939148394\n"
     ]
    },
    {
     "data": {
      "text/plain": [
       "(327, 0.9887969974582396)"
      ]
     },
     "execution_count": 12,
     "metadata": {},
     "output_type": "execute_result"
    },
    {
     "ename": "",
     "evalue": "",
     "output_type": "error",
     "traceback": [
      "\u001b[1;31mThe Kernel crashed while executing code in the current cell or a previous cell. \n",
      "\u001b[1;31mPlease review the code in the cell(s) to identify a possible cause of the failure. \n",
      "\u001b[1;31mClick <a href='https://aka.ms/vscodeJupyterKernelCrash'>here</a> for more info. \n",
      "\u001b[1;31mView Jupyter <a href='command:jupyter.viewOutput'>log</a> for further details."
     ]
    }
   ],
   "source": [
    "ghat_list=[]\n",
    "for i in range(len(cluster_sizes)):\n",
    "    if cluster_sizes[i]>4:\n",
    "        ghat_list.append(X[DBSCAN_fit.labels_==i][0])\n",
    "\n",
    "medium_hat=np.vstack(ghat_list)\n",
    "medium_hat=H.cat2complex(medium_hat)   \n",
    "print(medium_hat.shape)\n",
    "\n",
    "torch_inners=np.abs(np.inner(medium_hat,medium.T.conj()) ) #entry i j is ghat_i dot bar(g_j) \n",
    "max_inners=np.max(torch_inners, axis=0)\n",
    "print(max_inners[0],max(torch_inners[:,0]))\n",
    "len(max_inners[max_inners>.99]),max_inners.mean()"
   ]
  },
  {
   "cell_type": "code",
   "execution_count": null,
   "metadata": {},
   "outputs": [],
   "source": []
  }
 ],
 "metadata": {
  "kernelspec": {
   "display_name": "Workstation1",
   "language": "python",
   "name": "python3"
  },
  "language_info": {
   "codemirror_mode": {
    "name": "ipython",
    "version": 3
   },
   "file_extension": ".py",
   "mimetype": "text/x-python",
   "name": "python",
   "nbconvert_exporter": "python",
   "pygments_lexer": "ipython3",
   "version": "3.8.16"
  }
 },
 "nbformat": 4,
 "nbformat_minor": 2
}
